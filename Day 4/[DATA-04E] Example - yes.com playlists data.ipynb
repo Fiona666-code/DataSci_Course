{
  "cells": [
    {
      "cell_type": "markdown",
      "metadata": {
        "id": "view-in-github",
        "colab_type": "text"
      },
      "source": [
        "<a href=\"https://colab.research.google.com/github/MCanela-1954/DataSci_Course/blob/main/%5BDATA-04E%5D%20Example%20-%20yes.com%20playlists%20data.ipynb\" target=\"_parent\"><img src=\"https://colab.research.google.com/assets/colab-badge.svg\" alt=\"Open In Colab\"/></a>"
      ]
    },
    {
      "cell_type": "markdown",
      "metadata": {
        "id": "p6UhsW3HL4XE"
      },
      "source": [
        "# [DATA-04E] Example - yes.com playlists data"
      ]
    },
    {
      "cell_type": "markdown",
      "metadata": {
        "id": "9qb8kiFrSKvs"
      },
      "source": [
        "## Introduction"
      ]
    },
    {
      "cell_type": "markdown",
      "metadata": {
        "id": "RPngQK88MHrs"
      },
      "source": [
        "This example uses playlists data to illustrate the use of **vector embeddings** in **recommender systems**. The data were collected by Shuo Chen from the Department of Computer Science, Cornell University. The playlists were crawled from Yes.com, a website providing radio lists from hundreds of radio stations in the United States. At that time, through the web based API http://api.yes.com, one could retrieve the playlist record of a specified station for the last 7 days.\n",
        "\n",
        "Chen collected as many playlists as possible by searching for all the possible genres at all the possible stations. The data collection lasted from December 2010 to May 2011. This led to a data set of 11,137 playlists, containing 75,262 different songs and 2,840,553 transitions."
      ]
    },
    {
      "cell_type": "markdown",
      "metadata": {
        "id": "PdKv53bkLpuy"
      },
      "source": [
        "## The data set"
      ]
    },
    {
      "cell_type": "markdown",
      "metadata": {
        "id": "_o00B_t2LxyQ"
      },
      "source": [
        "The playlists come in the text file `playlists.txt`, each playlist in one line. The playlist is a sequence of numbers, which are the song ID's (from 0 to the total number of songs minus one), separated by a white space. In this file, each line is ended by a space.\n",
        "\n",
        "A second file, `songs.txt`, contains data on the songs. Each line corresponds to one song, and has the format `Integer_ID \\t Title \\t Artist \\n` (`\\t` is the tab character in Python). When data were missing, a dash was placed instead.\n",
        "\n",
        "Sources:\n",
        "\n",
        "1. S Chen, JL Moore, D Turnbull & T Joachims (2012), *Playlist Prediction via Metric Embedding*, ACM Conference on Knowledge Discovery and Data Mining (KDD).\n",
        "\n",
        "2. JL Moore, S Chen, T Joachims & D Turnbull (2012), *Learning to Embed Songs and Tags for Playlists Prediction*, International Society for Music Information Retrieval (ISMIR)."
      ]
    },
    {
      "cell_type": "markdown",
      "metadata": {
        "id": "Dv3-mIKxMi5Q"
      },
      "source": [
        "## Importing the playlists data"
      ]
    },
    {
      "cell_type": "markdown",
      "metadata": {
        "id": "nYq4qtxiCGab"
      },
      "source": [
        "Since the playlists data set is not tabular, we cannot import it to a Pandas data frame. We use the package Requests to import it to a string. First, we import the package."
      ]
    },
    {
      "cell_type": "code",
      "execution_count": null,
      "metadata": {
        "id": "-DD36FJcP1Sk"
      },
      "outputs": [],
      "source": [
        "import requests"
      ]
    },
    {
      "cell_type": "markdown",
      "metadata": {
        "id": "wUNcjh5XNlOi"
      },
      "source": [
        "The file `playlists.txt` has the same path as other data sources used in this course."
      ]
    },
    {
      "cell_type": "code",
      "execution_count": null,
      "metadata": {
        "id": "BHf7QhKnN_zv"
      },
      "outputs": [],
      "source": [
        "path = 'https://raw.githubusercontent.com/MCanela-1954/Data/main/'"
      ]
    },
    {
      "cell_type": "markdown",
      "metadata": {
        "id": "zPB_DoqjQQ9X"
      },
      "source": [
        "We apply the Requests function `get()` to the URL resulting from appending the file name to this path. The request is accepted, and the attribute `.text` of the object returned is a string equal to the content of the text file."
      ]
    },
    {
      "cell_type": "code",
      "execution_count": null,
      "metadata": {
        "id": "x1hHWW_WP8nf"
      },
      "outputs": [],
      "source": [
        "playlists = requests.get(path + 'playlists.txt').text"
      ]
    },
    {
      "cell_type": "markdown",
      "metadata": {
        "id": "OsWKb6DwDohw"
      },
      "source": [
        "We **split** this string as a list of strings, one for each line. This can be done with the method `.split()`, using the new line character `\\n` as the **separator**."
      ]
    },
    {
      "cell_type": "code",
      "execution_count": null,
      "metadata": {
        "id": "urSuTaTWL_ME"
      },
      "outputs": [],
      "source": [
        "playlists = playlists.split('\\n')"
      ]
    },
    {
      "cell_type": "markdown",
      "metadata": {
        "id": "dssg63IEEWdu"
      },
      "source": [
        "We split now every string in this list as a list of strings, using now the default separator, which is the white space."
      ]
    },
    {
      "cell_type": "code",
      "execution_count": null,
      "metadata": {
        "id": "OK5eAsePNlFN"
      },
      "outputs": [],
      "source": [
        "playlists = [p.split() for p in playlists]"
      ]
    },
    {
      "cell_type": "markdown",
      "metadata": {
        "id": "zuubFLSgF0V8"
      },
      "source": [
        "Now, `playlists` is a list of lists, every one containing the ID's of the songs for the corresponding playlist. Let us check the number of playlists."
      ]
    },
    {
      "cell_type": "code",
      "execution_count": null,
      "metadata": {
        "id": "Tuty_Yb3SunI"
      },
      "outputs": [],
      "source": [
        "len(playlists)"
      ]
    },
    {
      "cell_type": "markdown",
      "metadata": {
        "id": "l1LdWgijGUIW"
      },
      "source": [
        "We can also take a look to a couple of these playlists."
      ]
    },
    {
      "cell_type": "code",
      "execution_count": null,
      "metadata": {
        "id": "9moP51oZSxug"
      },
      "outputs": [],
      "source": [
        "print(playlists[0])"
      ]
    },
    {
      "cell_type": "code",
      "execution_count": null,
      "metadata": {
        "id": "Um-RqlwuS8C5"
      },
      "outputs": [],
      "source": [
        "print(playlists[-1])"
      ]
    },
    {
      "cell_type": "markdown",
      "metadata": {
        "id": "qD1se_fhHMNt"
      },
      "source": [
        "## Importing the songs data"
      ]
    },
    {
      "cell_type": "markdown",
      "metadata": {
        "id": "DpC2R9yBWuFD"
      },
      "source": [
        "Since the songs data set comes as a table, we can use the Pandas function `read.csv()` to import the data to a data frame. Note that we specify a separator here, since this is not a true \"comma\" separated file. We also have to specify the column names, because the source file has no **header**."
      ]
    },
    {
      "cell_type": "code",
      "execution_count": null,
      "metadata": {
        "id": "0cl8uN-2VS7M"
      },
      "outputs": [],
      "source": [
        "import pandas as pd\n",
        "songs = pd.read_csv(path + 'songs.txt', sep='\\t', header=None)\n",
        "songs.columns = ['id', 'title', 'artist']"
      ]
    },
    {
      "cell_type": "markdown",
      "metadata": {
        "id": "mk2Kp1kUHgow"
      },
      "source": [
        "Let us check the contents of this data frame."
      ]
    },
    {
      "cell_type": "code",
      "execution_count": null,
      "metadata": {
        "id": "3vPWSPk2HfRU"
      },
      "outputs": [],
      "source": [
        "songs.info()"
      ]
    },
    {
      "cell_type": "code",
      "execution_count": null,
      "metadata": {
        "id": "F0oPMZTfbHrE"
      },
      "outputs": [],
      "source": [
        "songs.head()"
      ]
    },
    {
      "cell_type": "markdown",
      "metadata": {
        "id": "Ux1mMQ5XX-wn"
      },
      "source": [
        "## Encoding the playlists"
      ]
    },
    {
      "cell_type": "markdown",
      "metadata": {
        "id": "Vegr3Yh-YM39"
      },
      "source": [
        "To be able to measure the similarity between songs, to use an **embedding representation**. We use **Word2Vec** to create the embedding vectors from the playlists. Word2vec comes in the Python package `gensim`.\n",
        "\n",
        "This package is not available for Colab notebooks, so we have to install it with `pip`. The role of the **exclamation mark** is to tell Colaboratory that this is a command to be executed in the shell (Colab notebooks run in a Linux virtual machine).\n",
        "\n",
        "*Note*. In your computer, you install a package only once, but in Colaboratory it is uninstalled when the notebook is disconnected. So, in practice, the package is reinstalled every time that you run the notebook."
      ]
    },
    {
      "cell_type": "markdown",
      "metadata": {
        "id": "bX1TrpZJKNUv"
      },
      "source": [
        "Now we can get Word2Vec as a function from the subpackage `gensim.models`."
      ]
    },
    {
      "cell_type": "code",
      "execution_count": null,
      "metadata": {
        "id": "qCMam2VgJ_HG"
      },
      "outputs": [],
      "source": [
        "!pip install gensim"
      ]
    },
    {
      "cell_type": "code",
      "execution_count": null,
      "metadata": {
        "id": "i3DDuV9fX-jK"
      },
      "outputs": [],
      "source": [
        "from gensim.models import Word2Vec"
      ]
    },
    {
      "cell_type": "markdown",
      "metadata": {
        "id": "rJCD9rkwgCuC"
      },
      "source": [
        "With this function, we can train a Word2Vec model on the playlists data. We use here **embedding dimension** 32, but you can try other choices. Don't make the vectors too long."
      ]
    },
    {
      "cell_type": "code",
      "execution_count": null,
      "metadata": {
        "id": "C5-Beh7yYvV0"
      },
      "outputs": [],
      "source": [
        "model = Word2Vec(playlists, vector_size=32)"
      ]
    },
    {
      "cell_type": "markdown",
      "metadata": {
        "id": "OiBzjM1ULAYP"
      },
      "source": [
        "The function `Word2vec()` returns an object containing various things. The vectors are packed in the object `model.wv`."
      ]
    },
    {
      "cell_type": "code",
      "execution_count": null,
      "metadata": {
        "id": "Mb1M3W93ZgtH"
      },
      "outputs": [],
      "source": [
        "type(model.wv)"
      ]
    },
    {
      "cell_type": "markdown",
      "metadata": {
        "id": "5IzvNgqdMpU-"
      },
      "source": [
        "Though this is an Gensim object of a specific type, the vectors can be extracted in an obvious way."
      ]
    },
    {
      "cell_type": "code",
      "execution_count": null,
      "metadata": {
        "id": "8qv8bMYReKMk"
      },
      "outputs": [],
      "source": [
        "model.wv[0]"
      ]
    },
    {
      "cell_type": "markdown",
      "metadata": {
        "id": "R7coHYXBPwyq"
      },
      "source": [
        "## Recommendation"
      ]
    },
    {
      "cell_type": "markdown",
      "metadata": {
        "id": "7zy4Het7ecbR"
      },
      "source": [
        "For this example, we select the song *Who's That Chick*, from *Rihanna*."
      ]
    },
    {
      "cell_type": "code",
      "execution_count": null,
      "metadata": {
        "id": "k6R6TmPSasc4"
      },
      "outputs": [],
      "source": [
        "print(songs.iloc[12])"
      ]
    },
    {
      "cell_type": "markdown",
      "metadata": {
        "id": "LSvEuffqcfKH"
      },
      "source": [
        "The recommended songs will be those similar to the song with ID 12. We get them with the method `.most_similar()`. The parameter `positive` indicates that we search for similar vectors. With `negative`, we can work in the opposite way. The default number of similar vectors is 10, so we have restricted the search here.\n",
        "\n",
        "Note that the vectors created by Gensim Word2Vec are not normalized, but we don't have to care, because the default similarity of Word2Vec is the **cosine similarity**."
      ]
    },
    {
      "cell_type": "code",
      "execution_count": null,
      "metadata": {
        "id": "SuZrLjNPbdVU"
      },
      "outputs": [],
      "source": [
        "recs = model.wv.most_similar(positive='12', topn=5)\n",
        "recs"
      ]
    },
    {
      "cell_type": "markdown",
      "source": [
        "The top-5 recommendation is extracted in Gensim as a list of pairs. These pairs are called **tuples** in Python. We can get them as an ordinary list as:"
      ],
      "metadata": {
        "id": "_7RVrXtnVbQV"
      }
    },
    {
      "cell_type": "code",
      "execution_count": null,
      "metadata": {
        "id": "sZsqzAFWdeEF"
      },
      "outputs": [],
      "source": [
        "reclist = [rec[0] for rec in recs]\n",
        "reclist"
      ]
    },
    {
      "cell_type": "markdown",
      "metadata": {
        "id": "JA0F0u18dv20"
      },
      "source": [
        "We can go back to the songs data to see which songs are these. In top of the list, we get the song with ID 68, which is *Boom Boom Pow*, by *Black Eyed Peas*. Hope you agree with that."
      ]
    },
    {
      "cell_type": "code",
      "source": [
        "songs.iloc[reclist]"
      ],
      "metadata": {
        "id": "cU0NCympWC84"
      },
      "execution_count": null,
      "outputs": []
    },
    {
      "cell_type": "markdown",
      "metadata": {
        "id": "rruiixrimdUK"
      },
      "source": [
        "*Note*. By replicating this example, you will find that Gensim Word2Vec does not create exactly the same vectors every time you train the model. According to Gensim documentation, this is due to \"ordering jitter from OS thread scheduling\". You can fix that with the argument `workers=1`."
      ]
    }
  ],
  "metadata": {
    "colab": {
      "provenance": [],
      "authorship_tag": "ABX9TyNhy6Rd6IYLJZ3ZL11TKf0B",
      "include_colab_link": true
    },
    "kernelspec": {
      "display_name": "Python 3",
      "name": "python3"
    },
    "language_info": {
      "name": "python"
    }
  },
  "nbformat": 4,
  "nbformat_minor": 0
}
