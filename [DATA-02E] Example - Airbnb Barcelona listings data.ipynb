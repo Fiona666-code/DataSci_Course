{
  "nbformat": 4,
  "nbformat_minor": 0,
  "metadata": {
    "colab": {
      "provenance": [],
      "authorship_tag": "ABX9TyOxwzyOj3GurGIoIzLi3aEy",
      "include_colab_link": true
    },
    "kernelspec": {
      "name": "python3",
      "display_name": "Python 3"
    },
    "language_info": {
      "name": "python"
    }
  },
  "cells": [
    {
      "cell_type": "markdown",
      "metadata": {
        "id": "view-in-github",
        "colab_type": "text"
      },
      "source": [
        "<a href=\"https://colab.research.google.com/github/MCanela-1954/DataSci_Course/blob/main/%5BDATA-02E%5D%20Example%20-%20Airbnb%20Barcelona%20listings%20data.ipynb\" target=\"_parent\"><img src=\"https://colab.research.google.com/assets/colab-badge.svg\" alt=\"Open In Colab\"/></a>"
      ]
    },
    {
      "cell_type": "markdown",
      "source": [
        "# [DATA-02E] Example - Airbnb Barcelona listings data"
      ],
      "metadata": {
        "id": "xjmFEIG2W2b6"
      }
    },
    {
      "cell_type": "markdown",
      "source": [
        "## Introduction"
      ],
      "metadata": {
        "id": "8PAG6AYBW_p-"
      }
    },
    {
      "cell_type": "markdown",
      "source": [
        "**Airbnb** is a peer-to-peer online marketplace and homestay network, which enables people to list or rent short-term lodging in residential properties, with the cost of accommodation set by the property owner, called the **host** at Airbnb. The company receives percentage service fees from both guests and hosts in conjunction with every booking. Starting in 2008, it has grown exponentially, and it currently has over 6 million listings in about 200 countries.\n",
        "\n",
        "Airbnb currently releases and updates data at the **Inside Airbnb** site (`www.insideairbnb.com`). The updates posted in March 2023 cover 116 areas, most of them in US and Europe. This example uses data from Barcelona, of a total of on 15,655 **listings**. In Barcelona, vacation apartments are subject to the highest rate of property tax, and platforms must share data with regulators."
      ],
      "metadata": {
        "id": "UMVdgkfvXD0y"
      }
    },
    {
      "cell_type": "markdown",
      "source": [
        "## The data set"
      ],
      "metadata": {
        "id": "oHuUvSWpXLzT"
      }
    },
    {
      "cell_type": "markdown",
      "source": [
        "The data come in the file `airbnb.csv`. The columns of the source file are:\n",
        "\n",
        "* `listing_id`, a unique listing's ID. An active listing is a property listed on Airbnb. Listings may include entire homes or apartments, private rooms or shared spaces.\n",
        "\n",
        "* `host_id`, a unique host's ID.\n",
        "\n",
        "* `host_since`, the date of the host's first listing in Airbnb, as 'yyyy-mm-dd'.\n",
        "\n",
        "* `name`, the listing's name. A minimal description (maximum 35 characters) of the place, intended to be appealing, such as 'Centric Bohemian next Ramblas & Macba'. The language is typically, but not always, either English or Spanish.\n",
        "\n",
        "* `neighbourhood`, the **neighbourhood** (barrio) of the listing. The neighbourhoods are sourced from the city.\n",
        "\n",
        "* `district`, the district of the listing. The districts, called **neighbourhood groups** at Airbnb, are sourced from the city. There are 10 districts in Barcelona, each containing several neighbourhoods.\n",
        "\n",
        "* `property_type`, the type of property listed. 75% of the listings come as 'Entire rental unit', or 'Private room in rental unit', but Airbnb admits many other possibilities.\n",
        "\n",
        "* `room_type`, taking values 'Entire home/apt', 'Private room', 'Shared room' and 'Hotel room'.\n",
        "\n",
        "* `bedrooms`, the number of available bedrooms.\n",
        "\n",
        "* `price`, the daily listing's price on that date, in euros. The price shown is for the listing as a whole, not per person. The price that you see when you search Airbnb for specific dates is the total price divided by the number of nights spcified. When a listing has been booked for several days, the price can be lower, since the host can apply different prices depending on the number of days booked.\n",
        "\n",
        "* `number_of_reviews`, the number of reviews of that listing that have been posted.\n",
        "\n",
        "* `review_scores_rating`, the average reviewers' rating of overall experience (*What was your guest’s overall experience?*). Listings are rated in the range 1-100.\n",
        "\n",
        "Source: `http://insideairbnb.com/get-the-data`."
      ],
      "metadata": {
        "id": "WRAqJDvfXdra"
      }
    },
    {
      "cell_type": "markdown",
      "source": [
        "## Questions"
      ],
      "metadata": {
        "id": "i1mGgOR4XjGj"
      }
    },
    {
      "cell_type": "markdown",
      "source": [
        "Q1. How many **duplicates** do you find in this data set?\n",
        "\n",
        "Q2. What is the proportion of listings whose rating is **missing**?\n",
        "\n",
        "Q3. Use a histogram to explore the distribution of the price.\n",
        "\n",
        "Q4. What is the average price per room type?\n",
        "\n",
        "Q5. In which neighbourhoods do we find more listings? Are they more expensive?"
      ],
      "metadata": {
        "id": "_VkrdVOoXojX"
      }
    },
    {
      "cell_type": "markdown",
      "source": [
        "## Importing the data"
      ],
      "metadata": {
        "id": "Sov2BYZ1Xse6"
      }
    },
    {
      "cell_type": "markdown",
      "source": [
        "We import Pandas as usual."
      ],
      "metadata": {
        "id": "qBUI3nN6X8-S"
      }
    },
    {
      "cell_type": "code",
      "source": [
        "import pandas as pd"
      ],
      "metadata": {
        "id": "4ztH7uVYYAF2"
      },
      "execution_count": null,
      "outputs": []
    },
    {
      "cell_type": "markdown",
      "source": [
        "The source files for this course can be extracted from a GitHub repository. The **path** is:"
      ],
      "metadata": {
        "id": "1hjrOP_FYCoR"
      }
    },
    {
      "cell_type": "code",
      "source": [
        "path = 'https://raw.githubusercontent.com/MCanela-1954/Data/main/'"
      ],
      "metadata": {
        "id": "EXbME0PZYGCN"
      },
      "execution_count": null,
      "outputs": []
    },
    {
      "cell_type": "markdown",
      "source": [
        "To import the data to a Pandas data frame, we use the function `read_csv()`."
      ],
      "metadata": {
        "id": "nwO0Gu5qYIl_"
      }
    },
    {
      "cell_type": "code",
      "source": [
        "df = pd.read_csv(path + 'airbnb.csv')"
      ],
      "metadata": {
        "id": "iPcxJViqYSBT"
      },
      "execution_count": null,
      "outputs": []
    },
    {
      "cell_type": "markdown",
      "source": [
        "## Exploring the data"
      ],
      "metadata": {
        "id": "X82TRboHYVVC"
      }
    },
    {
      "cell_type": "markdown",
      "source": [
        "The report printed by the method `.info()` contains basic information about the data. We have 15,655 data points, as expected. Among the 11 columns, `name`, `bedrooms` and `review_scores_rating` have missing values, in different proportions."
      ],
      "metadata": {
        "id": "bM40TYNiYheM"
      }
    },
    {
      "cell_type": "code",
      "source": [
        "df.info()"
      ],
      "metadata": {
        "id": "8OZfIDtOY7v5"
      },
      "execution_count": null,
      "outputs": []
    },
    {
      "cell_type": "markdown",
      "source": [
        "The first rows can be displayed with the method `.head()`."
      ],
      "metadata": {
        "id": "1HPlFD-nY89J"
      }
    },
    {
      "cell_type": "code",
      "source": [
        "df.head()"
      ],
      "metadata": {
        "id": "M3z2G2OXZtnV"
      },
      "execution_count": null,
      "outputs": []
    },
    {
      "cell_type": "markdown",
      "source": [
        "## Q1. How many duplicates do you find in this data set?"
      ],
      "metadata": {
        "id": "7gArKF0SZvwR"
      }
    },
    {
      "cell_type": "markdown",
      "source": [
        "Duplicates can be detected with the method `.duplicated()`, which returns a Boolean series, with value `True` if all the entries in the corresponding row is duplicated, and `False` otherwise. This method uses a top-down search.\n",
        "\n",
        "These Booleans are stored in the series returned by `.duplicated()`. By applying `.sum to this Boolean series, we convert the Booleans to integers (1/0), so the sum is equal to the number of `True` values, that is, the number of duplicates. This calculation illustrates how computers count the times an expression is true. Note that, if the same row appears $n$ times in the data set, it is counted as $n - 1$ duplicates.\n",
        "\n",
        "In this example, it makes sense to apply this method to the first column, to check whether there are duplicated listing ID's. So, we start here."
      ],
      "metadata": {
        "id": "KlZe9PzbZ_Sz"
      }
    },
    {
      "cell_type": "code",
      "source": [
        "df['listing_id'].duplicated().sum()"
      ],
      "metadata": {
        "id": "sK9hehEMcXUW"
      },
      "execution_count": null,
      "outputs": []
    },
    {
      "cell_type": "markdown",
      "source": [
        "So, the listing ID is a good ID. Nevertheless, when we check whether the data of the listings are duplicated, we find 28 cases. They correspond to listings that have exactly the same data. This may happen, *e.g*. when they refer to beds in a shared bedroom."
      ],
      "metadata": {
        "id": "cSCWGzYu1kWI"
      }
    },
    {
      "cell_type": "code",
      "source": [
        "df.drop(columns='listing_id').duplicated().sum()"
      ],
      "metadata": {
        "id": "yiND1YBicb0Z"
      },
      "execution_count": null,
      "outputs": []
    },
    {
      "cell_type": "markdown",
      "source": [
        "## Q2. Proportion of listings with missing ratings"
      ],
      "metadata": {
        "id": "x0wlWWZ71hfM"
      }
    },
    {
      "cell_type": "markdown",
      "source": [
        "The report extracted with `.info()` already let us know that some columns have missing values. In particular, we have a relevant number of listings for which rating scores are not available (many guests don't rate the lodgings). A specific report on missingness, which can be restricted to some selected columns, can be extracted with the method `.isna()`, which returns a Boolean data frame of the same shape indicating whether an entry is missing.\n",
        "\n",
        "By applying `.sum()` after `.isna()`, we would obtain the column totals, that is, the numbers of missing values for every column. Or, by applying `.mean()`, we obtain the number of missing values (*i.e*. the column totals) divided by the number of listings (*i.e*. the number of rows). So, we get the proportion of missing values for every column as:"
      ],
      "metadata": {
        "id": "SZrLL24n39cl"
      }
    },
    {
      "cell_type": "code",
      "source": [
        "df.isna().mean().round(3)"
      ],
      "metadata": {
        "id": "7BgNVYll5NvV"
      },
      "execution_count": null,
      "outputs": []
    },
    {
      "cell_type": "markdown",
      "source": [
        "We find a 22.1% of listings with no review scores."
      ],
      "metadata": {
        "id": "8SE_1sK36U9q"
      }
    },
    {
      "cell_type": "markdown",
      "source": [
        "## Q3. Distribution of the price"
      ],
      "metadata": {
        "id": "mbqV1tBg_PUn"
      }
    },
    {
      "cell_type": "markdown",
      "source": [
        "A histogram for the prices can be obtained with the method `.plot.hist()`, which has already been used in this course."
      ],
      "metadata": {
        "id": "gqPEv_qj_SVj"
      }
    },
    {
      "cell_type": "code",
      "source": [
        "df['price'].plot.hist(title='Figure 1. Distribution of the price',\n",
        "    color='gray', edgecolor='white', xlabel='Price per night (euros)');"
      ],
      "metadata": {
        "id": "IDsF7hKw_iFw"
      },
      "execution_count": null,
      "outputs": []
    },
    {
      "cell_type": "markdown",
      "source": [
        "Is this histogram useful? Not much, since some very expensive lodgings distort the whole picture, which is a frequent issue with skewed distributions. These extreme prices look like errors and, indeed, by using the listing's ID, it can be checked that some of them don't match the prices given in the Airbnb website. Another perspective of the distribution can be provided by the statistical summary printed by the method `.describe()`."
      ],
      "metadata": {
        "id": "7tNMvNWSAcpF"
      }
    },
    {
      "cell_type": "code",
      "source": [
        "df['price'].describe()"
      ],
      "metadata": {
        "id": "pwcU8EtpABW1"
      },
      "execution_count": null,
      "outputs": []
    },
    {
      "cell_type": "markdown",
      "source": [
        "For a better picture of the bulk of Airbnb listings we could **trim the data**. For instance, we can plot a histogram for the listings with prices within a reasonable interval. To get such histogram, we can use the **filter expression** such as:"
      ],
      "metadata": {
        "id": "B4Fw3-_fAsh4"
      }
    },
    {
      "cell_type": "code",
      "source": [
        "filter_expr = df['price'].between(25,175)"
      ],
      "metadata": {
        "id": "xDzKbqYdADWK"
      },
      "execution_count": null,
      "outputs": []
    },
    {
      "cell_type": "markdown",
      "source": [
        "The role of this expression is obvious. An equivalent expression would be `(df['price'] >= 25) & (df['price'] <= 175)`. Note that the method `.between()` (copied from an SQL function) includes the two limits of the interval.\n",
        "\n",
        "Next, we draw a histogram including the listings that pass the filter."
      ],
      "metadata": {
        "id": "AERyuprjA_CV"
      }
    },
    {
      "cell_type": "code",
      "source": [
        "df['price'][filter_expr].plot.hist(title='Figure 2. Distribution of the price (trimmed data)',\n",
        "    color='gray', edgecolor='white', bins=30, xlabel='Price per night (euros)');"
      ],
      "metadata": {
        "id": "kJKq1_9yAOR4"
      },
      "execution_count": null,
      "outputs": []
    },
    {
      "cell_type": "markdown",
      "source": [
        "The argument `bins=30` ensures that the range of the data is partitioned into intervals whose limits are multiples of 5, which makes the figure more appealing. the histogram illustrates a well known fact, that prices don't change continuously, and hosts prefer prices that are multiples of 10. The histogram also shows that 50, 100 and 150 euros are popular prices.\n",
        "\n",
        "*Note*. The default for counting the observations in every bin is: for an interval of limits $a$ and $b$, the values $x$ such that $a \\le x < b$ are counted. Except for the last bin, for which the right limit is also counted.\n"
      ],
      "metadata": {
        "id": "xi8f-ikwAQTj"
      }
    },
    {
      "cell_type": "markdown",
      "source": [
        "## Q4. Average price per room type"
      ],
      "metadata": {
        "id": "CM4OtjX_BHgh"
      }
    },
    {
      "cell_type": "markdown",
      "source": [
        "A **pivot table** with the average price per room type can be calculated with the method `.pivot_table()`. The parameters `values` and `index` specify the column to be aggregated and the column to be used for grouping, respectively."
      ],
      "metadata": {
        "id": "A8ZTImFuCkr-"
      }
    },
    {
      "cell_type": "code",
      "source": [
        "table1 = pd.pivot_table(df, values='price', index='room_type', aggfunc='mean').round()\n",
        "table1"
      ],
      "metadata": {
        "id": "PWiPRlEzBbQ4"
      },
      "execution_count": null,
      "outputs": []
    },
    {
      "cell_type": "markdown",
      "source": [
        "But, how informative is the average price? With skewed distributions, the extreme observations on the right tail \"pull\" the mean, so it may fall far from the middle of the distribution. In these cases, the **median** gives a better description of the mid prices. To get the median price per room type, we use `aggfunc='median'` (no need of rounding here)."
      ],
      "metadata": {
        "id": "YEGWJLl4CrEL"
      }
    },
    {
      "cell_type": "code",
      "source": [
        "table2 = pd.pivot_table(df, values='price', index='room_type', aggfunc='median')\n",
        "table2"
      ],
      "metadata": {
        "id": "yP1sMXvgB0AM"
      },
      "execution_count": null,
      "outputs": []
    },
    {
      "cell_type": "markdown",
      "source": [
        "You may prefer to display these tables as **bar charts**. Note that, even if we see a pivot table just as something that the Python kernel prints to the screen, these methods (except `.info()`) return new Pandas objects. Our second pivot table, for instance, is a Pandas series, with the room types as the index. So, we can display a bar chart with the method `.plot.bar()`."
      ],
      "metadata": {
        "id": "0TgYZtsTCwLD"
      }
    },
    {
      "cell_type": "code",
      "source": [
        "table2.plot.bar(title='Figure 3. Median price per room type', xlabel='Room type',\n",
        "    legend=False, color='gray', ylabel='Price per night (euros)');"
      ],
      "metadata": {
        "id": "-wrseU5LCGYR"
      },
      "execution_count": null,
      "outputs": []
    },
    {
      "cell_type": "markdown",
      "source": [
        "## Q5. Top-10 neighbourhoods"
      ],
      "metadata": {
        "id": "cSN6z9JdCQYU"
      }
    },
    {
      "cell_type": "markdown",
      "source": [
        "We take now a look at the neighbourhoods with more listings. The top ten list can be extracted with the method `.value_counts()`, which returns a series with counts of the occurrences of the values of a series, sorted top down. These neighbourhood names come as the index."
      ],
      "metadata": {
        "id": "iRlhn7NSJBCx"
      }
    },
    {
      "cell_type": "code",
      "source": [
        "table3 = df['neighbourhood'].value_counts().head(10)\n",
        "table3"
      ],
      "metadata": {
        "id": "7tWjeSivIqhy"
      },
      "execution_count": null,
      "outputs": []
    },
    {
      "cell_type": "markdown",
      "source": [
        "Are these neighbourhoods more expensive? We wonder if there is an association between the mid price and the amount of property listed. To get the answer, we could use a pivot table with the neighbourhood in the rows and the number of listings and the mid price in the columns. Instead, we apply here the method `.groupby()` (copied from SQL), with two aggregate functions. The function `count()` counts the non missing observations.\n",
        "\n",
        "Except for la Dreta de l'Eixample, we don't find higher prices associated to more listings. So, the picture is more complex than that."
      ],
      "metadata": {
        "id": "01apywOCJZgu"
      }
    },
    {
      "cell_type": "code",
      "source": [
        "table4 = df.groupby(by='neighbourhood')['price'].agg(['count', 'median']).sort_values(by='count',\n",
        "    ascending=False).head(10)\n",
        "table4"
      ],
      "metadata": {
        "id": "LQrsO2w8IunK"
      },
      "execution_count": null,
      "outputs": []
    },
    {
      "cell_type": "markdown",
      "source": [
        "## Mounting the dirve"
      ],
      "metadata": {
        "id": "a2H85CkNMB6D"
      }
    },
    {
      "cell_type": "markdown",
      "source": [
        "Pandas provides a toolkit to export/import tabular data sets, which is quite simple. Just as the function `read_csv()` and the method `.to_csv()` allow us to switch from Pandas data frames to CSV files and conversely, similar tools exist for JSON and SQL.\n",
        "\n",
        "Except when a path is explicitly specified, files are read from and written to the **working directory**. The current working directory is then a folder called `content`, whose contents you can see in the browser by clicking in the *Files* button on the left side on the screen. Currently, we have there a single folder called `sample_data`.\n",
        "\n",
        "Since anything that we store in `content` is deleted when the current session is closed, it is preferrable to store our data files in the MyDrive folder of your drive, with the rest of our files. To have access from the Python kernel to this folder, we have to **mount** first the drive, which is done as follows. Google will ask you for identification and consent.\n"
      ],
      "metadata": {
        "id": "cUHYFs5Z-8P2"
      }
    },
    {
      "cell_type": "code",
      "source": [
        "from google.colab import drive\n",
        "drive.mount('/content/drive')"
      ],
      "metadata": {
        "id": "ULYUZxciKZYJ"
      },
      "execution_count": null,
      "outputs": []
    },
    {
      "cell_type": "markdown",
      "source": [
        "We can now use any path starting with `'/content/drive/'`. For instance:"
      ],
      "metadata": {
        "id": "EHKEe1d7IysA"
      }
    },
    {
      "cell_type": "code",
      "source": [
        "mypath = '/content/drive/MyDrive/'"
      ],
      "metadata": {
        "id": "TUg38v3sKhfE"
      },
      "execution_count": null,
      "outputs": []
    },
    {
      "cell_type": "markdown",
      "source": [
        "## Exporting to a JSON file"
      ],
      "metadata": {
        "id": "lf6CBEyOJgIi"
      }
    },
    {
      "cell_type": "markdown",
      "source": [
        "We can now export our data to a JSON file, that will appear in the folder specified in the path we use. Since a JSON object can have various structures, combining square and curly braces in different ways, we have to control this with the parameter `orient`. The argument `orient='records'` will create a data structure that, in Python, will be seen as a list of dictionaries, each dictionary accounting for a row of the data frame. You can check that this is so in the browser."
      ],
      "metadata": {
        "id": "fSBc8DjXMMb7"
      }
    },
    {
      "cell_type": "code",
      "source": [
        "df.to_json(mypath + 'airbnb.json', orient='records')"
      ],
      "metadata": {
        "id": "61C1o-VgI-Oc"
      },
      "execution_count": null,
      "outputs": []
    },
    {
      "cell_type": "markdown",
      "source": [
        "The data can be imported back to a Pandas data frame. Let us use a different name, `df_json`."
      ],
      "metadata": {
        "id": "nj2_mcrCNzTF"
      }
    },
    {
      "cell_type": "code",
      "source": [
        "df_json = pd.read_json(mypath + 'airbnb.json')"
      ],
      "metadata": {
        "id": "2XCYlevqMNUC"
      },
      "execution_count": null,
      "outputs": []
    },
    {
      "cell_type": "markdown",
      "source": [
        "Let us check that everything is right."
      ],
      "metadata": {
        "id": "3M75bdyqOLek"
      }
    },
    {
      "cell_type": "code",
      "source": [
        "df_json.info()"
      ],
      "metadata": {
        "id": "2spbk2BvMtk8"
      },
      "execution_count": null,
      "outputs": []
    },
    {
      "cell_type": "markdown",
      "source": [
        "# Exporting to an SQL database\n"
      ],
      "metadata": {
        "id": "Tl6coLHjM39t"
      }
    },
    {
      "cell_type": "markdown",
      "source": [
        "Though relational databases share the SQL language (not completely standardized), they are different, so we need a specific **driver** to connect to a database from a external application (not only from Python). In Python, those drivers come, as many other things, as packages. For this example, we are using **SQLite**, which is serverless, so a database is just a special file that you can save in computer or in your cloud space.\n",
        "\n",
        "SQLite3 comes with any Python distribution, and the package `sqlite3` is part of the Python Standard Library. We import this directly."
      ],
      "metadata": {
        "id": "0YZkJbbXQR1e"
      }
    },
    {
      "cell_type": "code",
      "source": [
        "import sqlite3"
      ],
      "metadata": {
        "id": "nP_5iJqtN2Tm"
      },
      "execution_count": null,
      "outputs": []
    },
    {
      "cell_type": "markdown",
      "source": [
        "To work with a database, you must connect to that database. To connect to an SQLite database from Python, you can do it as follows (this is not the only way)."
      ],
      "metadata": {
        "id": "FIxKLk2qcqJb"
      }
    },
    {
      "cell_type": "code",
      "source": [
        "conn = sqlite3.connect(mypath + 'iese.db')"
      ],
      "metadata": {
        "id": "r4r-xQMeODBa"
      },
      "execution_count": null,
      "outputs": []
    },
    {
      "cell_type": "markdown",
      "source": [
        "This creates the database with the specified path (if it didn't exist), but the corresponding file will not show up in Google Drive until we close the connection. We export our data set to a table called `airbnb` with the method `.to_sql()`. The argument `index=False` stops the index to be included as the first column in that table."
      ],
      "metadata": {
        "id": "9P8dVo4QdS4Z"
      }
    },
    {
      "cell_type": "code",
      "source": [
        "df.to_sql('airbnb', conn, index=False)"
      ],
      "metadata": {
        "id": "czacOkCJOGzF"
      },
      "execution_count": null,
      "outputs": []
    },
    {
      "cell_type": "markdown",
      "source": [
        "We are done, so can close the connection."
      ],
      "metadata": {
        "id": "Gau86OuLeCKU"
      }
    },
    {
      "cell_type": "code",
      "source": [
        "conn.close()"
      ],
      "metadata": {
        "id": "6Dn8lYp6OPAY"
      },
      "execution_count": null,
      "outputs": []
    },
    {
      "cell_type": "code",
      "source": [
        "ls"
      ],
      "metadata": {
        "id": "EZJJzYDPOVbJ"
      },
      "execution_count": null,
      "outputs": []
    },
    {
      "cell_type": "markdown",
      "source": [
        "You can see the files `airbnb.json` and `iese.db` in MyDrive (you may need to refresh)."
      ],
      "metadata": {
        "id": "KCsQ50kfebVM"
      }
    },
    {
      "cell_type": "markdown",
      "source": [
        "# SQL queries from Pandas"
      ],
      "metadata": {
        "id": "6kq_6viAOQHe"
      }
    },
    {
      "cell_type": "markdown",
      "source": [
        "We can run queries to our database from the Python kernel. First, we reconnect."
      ],
      "metadata": {
        "id": "kiSaYadHe0G1"
      }
    },
    {
      "cell_type": "code",
      "source": [
        "conn = sqlite3.connect(mypath + 'iese.db')"
      ],
      "metadata": {
        "id": "_ISTn-kCOcVN"
      },
      "execution_count": null,
      "outputs": []
    },
    {
      "cell_type": "markdown",
      "source": [
        "Let us respond to questions Q4 and Q5 with a couple of easy queries. For the first table that we extracted to respond question Q4, the query would be:"
      ],
      "metadata": {
        "id": "aXp-uCKXfImH"
      }
    },
    {
      "cell_type": "code",
      "source": [
        "q4 = 'SELECT AVG(price), room_type FROM airbnb GROUP BY room_type;'"
      ],
      "metadata": {
        "id": "3oBmmKuxOed3"
      },
      "execution_count": null,
      "outputs": []
    },
    {
      "cell_type": "code",
      "source": [
        "q4_output = pd.read_sql(q4, conn)\n",
        "q4_output"
      ],
      "metadata": {
        "id": "2JVZ2OaEOgof"
      },
      "execution_count": null,
      "outputs": []
    },
    {
      "cell_type": "markdown",
      "source": [
        "Medians are not available in SQLite, so we leave this as it is. For the last table of question Q5, we would do (again with means instead of medians):"
      ],
      "metadata": {
        "id": "IzDXm8qYfb5h"
      }
    },
    {
      "cell_type": "code",
      "source": [
        "q5 = '''\n",
        "    SELECT neighbourhood, COUNT(*) AS count, ROUND(AVG(price), 1) AS price\n",
        "    FROM airbnb\n",
        "    GROUP BY neighbourhood\n",
        "    ORDER BY count DESC\n",
        "    LIMIT 10\n",
        "'''\n",
        "q5_output = pd.read_sql(q5, conn)\n",
        "q5_output"
      ],
      "metadata": {
        "id": "M24VK4Q1OnnP"
      },
      "execution_count": null,
      "outputs": []
    },
    {
      "cell_type": "code",
      "source": [
        "conn.close()"
      ],
      "metadata": {
        "id": "4loXvYCzkRvO"
      },
      "execution_count": null,
      "outputs": []
    }
  ]
}