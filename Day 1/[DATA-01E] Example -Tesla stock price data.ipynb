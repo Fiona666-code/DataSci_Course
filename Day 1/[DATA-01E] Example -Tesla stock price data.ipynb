{
  "nbformat": 4,
  "nbformat_minor": 0,
  "metadata": {
    "colab": {
      "provenance": [],
      "include_colab_link": true
    },
    "kernelspec": {
      "name": "python3",
      "display_name": "Python 3"
    },
    "language_info": {
      "name": "python"
    }
  },
  "cells": [
    {
      "cell_type": "markdown",
      "metadata": {
        "id": "view-in-github",
        "colab_type": "text"
      },
      "source": [
        "<a href=\"https://colab.research.google.com/github/MCanela-1954/DataSci_Course/blob/main/Day%201/%5BDATA-01E%5D%20Example%20-Tesla%20stock%20price%20data.ipynb\" target=\"_parent\"><img src=\"https://colab.research.google.com/assets/colab-badge.svg\" alt=\"Open In Colab\"/></a>"
      ]
    },
    {
      "cell_type": "markdown",
      "source": [
        "# [DATA-01E] Example - Tesla stock price data"
      ],
      "metadata": {
        "id": "n8M_vtScJbD9"
      }
    },
    {
      "cell_type": "markdown",
      "source": [
        "## Introduction"
      ],
      "metadata": {
        "id": "_-PBAGsKK24H"
      }
    },
    {
      "cell_type": "markdown",
      "source": [
        "This example shows how to carry out an exploratory statistical analysis with the Pandas toolkit. It uses data on the Tesla Inc. (TSLA) stock prices in the Nasdaq stock market, for the years 2021-24, as published by Yahoo Finance (1,005 trading days).\n"
      ],
      "metadata": {
        "id": "4PYJJ6zdLDBt"
      }
    },
    {
      "cell_type": "markdown",
      "source": [
        "## The data set"
      ],
      "metadata": {
        "id": "DZO5b5BkLJiF"
      }
    },
    {
      "cell_type": "markdown",
      "source": [
        "The data source is the file `tesla.csv`. The data come in the typical OHLC format (Open/High/Low/Close). The columns are:\n",
        "\n",
        "* `date`, the date, as 'yyyy-mm-dd'.\n",
        "\n",
        "* `open`, the price (US dollars) of the stock at the beginning of the trading day. It can be different from the closing price of the previous trading day.\n",
        "\n",
        "* `high`, the highest price (US dollars) of the stock on that trading day.\n",
        "\n",
        "* `low`, the lowest price (US dollars) of the stock on that day.\n",
        "\n",
        "* `close`, the price (US dollars) of the stock at closing time, adjusted for splits.\n",
        "\n",
        "* `adj_close`, the closing price (US dollars), adjusted for splits and dividend and/or capital gain distributions.\n",
        "\n",
        "* `volume`, the amount of Tesla stock (number of shares) that has been traded on that day.\n",
        "\n",
        "Source: `finance.yahoo.com/quote/TSLA/history`."
      ],
      "metadata": {
        "id": "X2XX6zTeMAz_"
      }
    },
    {
      "cell_type": "markdown",
      "source": [
        "## Questions"
      ],
      "metadata": {
        "id": "GrnmwPGSMMtw"
      }
    },
    {
      "cell_type": "markdown",
      "source": [
        "Q1. Extract the data for the trading days previous to January 15th as a separate table.\n",
        "\n",
        "Q2. Use a **line plot** to see whether there is a **time trend** in the opening price.\n",
        "\n",
        "Q3. Use a line plot and a **histogram** to visualize the trading volume. What do you conclude?\n",
        "\n",
        "Q4. A direct measure of **volatility** can be obtained as the difference of the highest price minus the lowest price in a given trading day. This is called the **daily price variation**. Add the daily variation of the Tesla stock prices as a new column to the data set. Do you see a trend in the daily price variation? How is the distribution?\n",
        "\n",
        "Q5. Is there an **association** between the daily price variation and the trading volume? Is the volatility stronger the days in which more shares are traded?\n"
      ],
      "metadata": {
        "id": "2utvaGTgMSZI"
      }
    },
    {
      "cell_type": "markdown",
      "source": [
        "## Importing the data"
      ],
      "metadata": {
        "id": "ESiLjGU6MVym"
      }
    },
    {
      "cell_type": "markdown",
      "source": [
        "We import Pandas in the usual way:"
      ],
      "metadata": {
        "id": "0i6kRTu4MfEC"
      }
    },
    {
      "cell_type": "code",
      "source": [
        "import pandas as pd"
      ],
      "metadata": {
        "id": "dQ_DaFCGMinX"
      },
      "execution_count": 1,
      "outputs": []
    },
    {
      "cell_type": "markdown",
      "source": [
        "In this course, we use a remote data sources. The source files are stored in a GitHub repository. In Pandas, remote source files work the same as local files, the only difference being in the path. For the source files of our examples, the path is:\n"
      ],
      "metadata": {
        "id": "9JVvM6MYMlKj"
      }
    },
    {
      "cell_type": "code",
      "source": [
        "path = 'https://raw.githubusercontent.com/MCanela-1954/Data/main/'"
      ],
      "metadata": {
        "id": "2HLTyB6KM85C"
      },
      "execution_count": 2,
      "outputs": []
    },
    {
      "cell_type": "markdown",
      "source": [
        "This path can be joined to the file name, as `path + 'tesla.csv'` (in Python, the plus sign `+` can be used to concatenate strings). Now, we import the data, as a Pandas data frame, with the function `read_csv()`. Don't forget that the path must match the current location of the data source file, either local or remote."
      ],
      "metadata": {
        "id": "U5LGspheN9yC"
      }
    },
    {
      "cell_type": "code",
      "source": [
        "df = pd.read_csv(path + 'tesla.csv')"
      ],
      "metadata": {
        "id": "63CBUZeKNChE"
      },
      "execution_count": 3,
      "outputs": []
    },
    {
      "cell_type": "markdown",
      "source": [
        "This creates the data frame `df`. Since nothing has been specified about the index when importing the data, a `RangeIndex` has been assigned to the data frame `df`. This means that the first row has index 0, the second row has index 1, etc."
      ],
      "metadata": {
        "id": "_keR6OKqNLnq"
      }
    },
    {
      "cell_type": "markdown",
      "source": [
        "## Exploring the data"
      ],
      "metadata": {
        "id": "SDM_xM5yOihx"
      }
    },
    {
      "cell_type": "markdown",
      "source": [
        "The report printed by the method `.info()` is probably the best way to start exploring a data frame."
      ],
      "metadata": {
        "id": "N87t0M9NRK1b"
      }
    },
    {
      "cell_type": "code",
      "source": [
        "df.info()"
      ],
      "metadata": {
        "id": "X_nV_B83RPkw",
        "colab": {
          "base_uri": "https://localhost:8080/"
        },
        "outputId": "585f36ee-019c-4b46-9964-7fcbd07db33b"
      },
      "execution_count": 4,
      "outputs": [
        {
          "output_type": "stream",
          "name": "stdout",
          "text": [
            "<class 'pandas.core.frame.DataFrame'>\n",
            "RangeIndex: 1004 entries, 0 to 1003\n",
            "Data columns (total 7 columns):\n",
            " #   Column     Non-Null Count  Dtype  \n",
            "---  ------     --------------  -----  \n",
            " 0   date       1004 non-null   object \n",
            " 1   open       1004 non-null   float64\n",
            " 2   high       1004 non-null   float64\n",
            " 3   low        1004 non-null   float64\n",
            " 4   close      1004 non-null   float64\n",
            " 5   adj_close  1004 non-null   float64\n",
            " 6   volume     1004 non-null   int64  \n",
            "dtypes: float64(5), int64(1), object(1)\n",
            "memory usage: 55.0+ KB\n"
          ]
        }
      ]
    },
    {
      "cell_type": "markdown",
      "source": [
        "The dimensions and the column names are what we expected. Since there are 1,004 index values and 1,004 non-null entries in every column, there are no missing values. Note that the column `date` has been imported by the function `read_csv()` as type `str` (reported as `object`). The numeric columns have been imported as either `int` or `float`, but this distinction is not relevant in this example.\n",
        "\n",
        "We can take a look at the first rows with the method `.head()`. Nothing unexpected here."
      ],
      "metadata": {
        "id": "4ru1eR7wRtWQ"
      }
    },
    {
      "cell_type": "code",
      "source": [
        "df.head()"
      ],
      "metadata": {
        "id": "3QyEzdaQRyg1",
        "colab": {
          "base_uri": "https://localhost:8080/",
          "height": 206
        },
        "outputId": "8eb71a43-9bf9-44b3-c776-ae53a0a61342"
      },
      "execution_count": 5,
      "outputs": [
        {
          "output_type": "execute_result",
          "data": {
            "text/plain": [
              "         date    open    high     low   close  adj_close     volume\n",
              "0  2021-01-04  239.82  248.16  239.06  243.26     243.26  145914600\n",
              "1  2021-01-05  241.22  246.95  239.73  245.04     245.04   96735600\n",
              "2  2021-01-06  252.83  258.00  249.70  251.99     251.99  134100000\n",
              "3  2021-01-07  259.21  272.33  258.40  272.01     272.01  154496700\n",
              "4  2021-01-08  285.33  294.83  279.46  293.34     293.34  225166500"
            ],
            "text/html": [
              "\n",
              "  <div id=\"df-d8f63d23-2e31-4413-9ff1-afa641e529e5\" class=\"colab-df-container\">\n",
              "    <div>\n",
              "<style scoped>\n",
              "    .dataframe tbody tr th:only-of-type {\n",
              "        vertical-align: middle;\n",
              "    }\n",
              "\n",
              "    .dataframe tbody tr th {\n",
              "        vertical-align: top;\n",
              "    }\n",
              "\n",
              "    .dataframe thead th {\n",
              "        text-align: right;\n",
              "    }\n",
              "</style>\n",
              "<table border=\"1\" class=\"dataframe\">\n",
              "  <thead>\n",
              "    <tr style=\"text-align: right;\">\n",
              "      <th></th>\n",
              "      <th>date</th>\n",
              "      <th>open</th>\n",
              "      <th>high</th>\n",
              "      <th>low</th>\n",
              "      <th>close</th>\n",
              "      <th>adj_close</th>\n",
              "      <th>volume</th>\n",
              "    </tr>\n",
              "  </thead>\n",
              "  <tbody>\n",
              "    <tr>\n",
              "      <th>0</th>\n",
              "      <td>2021-01-04</td>\n",
              "      <td>239.82</td>\n",
              "      <td>248.16</td>\n",
              "      <td>239.06</td>\n",
              "      <td>243.26</td>\n",
              "      <td>243.26</td>\n",
              "      <td>145914600</td>\n",
              "    </tr>\n",
              "    <tr>\n",
              "      <th>1</th>\n",
              "      <td>2021-01-05</td>\n",
              "      <td>241.22</td>\n",
              "      <td>246.95</td>\n",
              "      <td>239.73</td>\n",
              "      <td>245.04</td>\n",
              "      <td>245.04</td>\n",
              "      <td>96735600</td>\n",
              "    </tr>\n",
              "    <tr>\n",
              "      <th>2</th>\n",
              "      <td>2021-01-06</td>\n",
              "      <td>252.83</td>\n",
              "      <td>258.00</td>\n",
              "      <td>249.70</td>\n",
              "      <td>251.99</td>\n",
              "      <td>251.99</td>\n",
              "      <td>134100000</td>\n",
              "    </tr>\n",
              "    <tr>\n",
              "      <th>3</th>\n",
              "      <td>2021-01-07</td>\n",
              "      <td>259.21</td>\n",
              "      <td>272.33</td>\n",
              "      <td>258.40</td>\n",
              "      <td>272.01</td>\n",
              "      <td>272.01</td>\n",
              "      <td>154496700</td>\n",
              "    </tr>\n",
              "    <tr>\n",
              "      <th>4</th>\n",
              "      <td>2021-01-08</td>\n",
              "      <td>285.33</td>\n",
              "      <td>294.83</td>\n",
              "      <td>279.46</td>\n",
              "      <td>293.34</td>\n",
              "      <td>293.34</td>\n",
              "      <td>225166500</td>\n",
              "    </tr>\n",
              "  </tbody>\n",
              "</table>\n",
              "</div>\n",
              "    <div class=\"colab-df-buttons\">\n",
              "\n",
              "  <div class=\"colab-df-container\">\n",
              "    <button class=\"colab-df-convert\" onclick=\"convertToInteractive('df-d8f63d23-2e31-4413-9ff1-afa641e529e5')\"\n",
              "            title=\"Convert this dataframe to an interactive table.\"\n",
              "            style=\"display:none;\">\n",
              "\n",
              "  <svg xmlns=\"http://www.w3.org/2000/svg\" height=\"24px\" viewBox=\"0 -960 960 960\">\n",
              "    <path d=\"M120-120v-720h720v720H120Zm60-500h600v-160H180v160Zm220 220h160v-160H400v160Zm0 220h160v-160H400v160ZM180-400h160v-160H180v160Zm440 0h160v-160H620v160ZM180-180h160v-160H180v160Zm440 0h160v-160H620v160Z\"/>\n",
              "  </svg>\n",
              "    </button>\n",
              "\n",
              "  <style>\n",
              "    .colab-df-container {\n",
              "      display:flex;\n",
              "      gap: 12px;\n",
              "    }\n",
              "\n",
              "    .colab-df-convert {\n",
              "      background-color: #E8F0FE;\n",
              "      border: none;\n",
              "      border-radius: 50%;\n",
              "      cursor: pointer;\n",
              "      display: none;\n",
              "      fill: #1967D2;\n",
              "      height: 32px;\n",
              "      padding: 0 0 0 0;\n",
              "      width: 32px;\n",
              "    }\n",
              "\n",
              "    .colab-df-convert:hover {\n",
              "      background-color: #E2EBFA;\n",
              "      box-shadow: 0px 1px 2px rgba(60, 64, 67, 0.3), 0px 1px 3px 1px rgba(60, 64, 67, 0.15);\n",
              "      fill: #174EA6;\n",
              "    }\n",
              "\n",
              "    .colab-df-buttons div {\n",
              "      margin-bottom: 4px;\n",
              "    }\n",
              "\n",
              "    [theme=dark] .colab-df-convert {\n",
              "      background-color: #3B4455;\n",
              "      fill: #D2E3FC;\n",
              "    }\n",
              "\n",
              "    [theme=dark] .colab-df-convert:hover {\n",
              "      background-color: #434B5C;\n",
              "      box-shadow: 0px 1px 3px 1px rgba(0, 0, 0, 0.15);\n",
              "      filter: drop-shadow(0px 1px 2px rgba(0, 0, 0, 0.3));\n",
              "      fill: #FFFFFF;\n",
              "    }\n",
              "  </style>\n",
              "\n",
              "    <script>\n",
              "      const buttonEl =\n",
              "        document.querySelector('#df-d8f63d23-2e31-4413-9ff1-afa641e529e5 button.colab-df-convert');\n",
              "      buttonEl.style.display =\n",
              "        google.colab.kernel.accessAllowed ? 'block' : 'none';\n",
              "\n",
              "      async function convertToInteractive(key) {\n",
              "        const element = document.querySelector('#df-d8f63d23-2e31-4413-9ff1-afa641e529e5');\n",
              "        const dataTable =\n",
              "          await google.colab.kernel.invokeFunction('convertToInteractive',\n",
              "                                                    [key], {});\n",
              "        if (!dataTable) return;\n",
              "\n",
              "        const docLinkHtml = 'Like what you see? Visit the ' +\n",
              "          '<a target=\"_blank\" href=https://colab.research.google.com/notebooks/data_table.ipynb>data table notebook</a>'\n",
              "          + ' to learn more about interactive tables.';\n",
              "        element.innerHTML = '';\n",
              "        dataTable['output_type'] = 'display_data';\n",
              "        await google.colab.output.renderOutput(dataTable, element);\n",
              "        const docLink = document.createElement('div');\n",
              "        docLink.innerHTML = docLinkHtml;\n",
              "        element.appendChild(docLink);\n",
              "      }\n",
              "    </script>\n",
              "  </div>\n",
              "\n",
              "\n",
              "    <div id=\"df-700dfb73-8d8f-4f48-915e-fc2f75342103\">\n",
              "      <button class=\"colab-df-quickchart\" onclick=\"quickchart('df-700dfb73-8d8f-4f48-915e-fc2f75342103')\"\n",
              "                title=\"Suggest charts\"\n",
              "                style=\"display:none;\">\n",
              "\n",
              "<svg xmlns=\"http://www.w3.org/2000/svg\" height=\"24px\"viewBox=\"0 0 24 24\"\n",
              "     width=\"24px\">\n",
              "    <g>\n",
              "        <path d=\"M19 3H5c-1.1 0-2 .9-2 2v14c0 1.1.9 2 2 2h14c1.1 0 2-.9 2-2V5c0-1.1-.9-2-2-2zM9 17H7v-7h2v7zm4 0h-2V7h2v10zm4 0h-2v-4h2v4z\"/>\n",
              "    </g>\n",
              "</svg>\n",
              "      </button>\n",
              "\n",
              "<style>\n",
              "  .colab-df-quickchart {\n",
              "      --bg-color: #E8F0FE;\n",
              "      --fill-color: #1967D2;\n",
              "      --hover-bg-color: #E2EBFA;\n",
              "      --hover-fill-color: #174EA6;\n",
              "      --disabled-fill-color: #AAA;\n",
              "      --disabled-bg-color: #DDD;\n",
              "  }\n",
              "\n",
              "  [theme=dark] .colab-df-quickchart {\n",
              "      --bg-color: #3B4455;\n",
              "      --fill-color: #D2E3FC;\n",
              "      --hover-bg-color: #434B5C;\n",
              "      --hover-fill-color: #FFFFFF;\n",
              "      --disabled-bg-color: #3B4455;\n",
              "      --disabled-fill-color: #666;\n",
              "  }\n",
              "\n",
              "  .colab-df-quickchart {\n",
              "    background-color: var(--bg-color);\n",
              "    border: none;\n",
              "    border-radius: 50%;\n",
              "    cursor: pointer;\n",
              "    display: none;\n",
              "    fill: var(--fill-color);\n",
              "    height: 32px;\n",
              "    padding: 0;\n",
              "    width: 32px;\n",
              "  }\n",
              "\n",
              "  .colab-df-quickchart:hover {\n",
              "    background-color: var(--hover-bg-color);\n",
              "    box-shadow: 0 1px 2px rgba(60, 64, 67, 0.3), 0 1px 3px 1px rgba(60, 64, 67, 0.15);\n",
              "    fill: var(--button-hover-fill-color);\n",
              "  }\n",
              "\n",
              "  .colab-df-quickchart-complete:disabled,\n",
              "  .colab-df-quickchart-complete:disabled:hover {\n",
              "    background-color: var(--disabled-bg-color);\n",
              "    fill: var(--disabled-fill-color);\n",
              "    box-shadow: none;\n",
              "  }\n",
              "\n",
              "  .colab-df-spinner {\n",
              "    border: 2px solid var(--fill-color);\n",
              "    border-color: transparent;\n",
              "    border-bottom-color: var(--fill-color);\n",
              "    animation:\n",
              "      spin 1s steps(1) infinite;\n",
              "  }\n",
              "\n",
              "  @keyframes spin {\n",
              "    0% {\n",
              "      border-color: transparent;\n",
              "      border-bottom-color: var(--fill-color);\n",
              "      border-left-color: var(--fill-color);\n",
              "    }\n",
              "    20% {\n",
              "      border-color: transparent;\n",
              "      border-left-color: var(--fill-color);\n",
              "      border-top-color: var(--fill-color);\n",
              "    }\n",
              "    30% {\n",
              "      border-color: transparent;\n",
              "      border-left-color: var(--fill-color);\n",
              "      border-top-color: var(--fill-color);\n",
              "      border-right-color: var(--fill-color);\n",
              "    }\n",
              "    40% {\n",
              "      border-color: transparent;\n",
              "      border-right-color: var(--fill-color);\n",
              "      border-top-color: var(--fill-color);\n",
              "    }\n",
              "    60% {\n",
              "      border-color: transparent;\n",
              "      border-right-color: var(--fill-color);\n",
              "    }\n",
              "    80% {\n",
              "      border-color: transparent;\n",
              "      border-right-color: var(--fill-color);\n",
              "      border-bottom-color: var(--fill-color);\n",
              "    }\n",
              "    90% {\n",
              "      border-color: transparent;\n",
              "      border-bottom-color: var(--fill-color);\n",
              "    }\n",
              "  }\n",
              "</style>\n",
              "\n",
              "      <script>\n",
              "        async function quickchart(key) {\n",
              "          const quickchartButtonEl =\n",
              "            document.querySelector('#' + key + ' button');\n",
              "          quickchartButtonEl.disabled = true;  // To prevent multiple clicks.\n",
              "          quickchartButtonEl.classList.add('colab-df-spinner');\n",
              "          try {\n",
              "            const charts = await google.colab.kernel.invokeFunction(\n",
              "                'suggestCharts', [key], {});\n",
              "          } catch (error) {\n",
              "            console.error('Error during call to suggestCharts:', error);\n",
              "          }\n",
              "          quickchartButtonEl.classList.remove('colab-df-spinner');\n",
              "          quickchartButtonEl.classList.add('colab-df-quickchart-complete');\n",
              "        }\n",
              "        (() => {\n",
              "          let quickchartButtonEl =\n",
              "            document.querySelector('#df-700dfb73-8d8f-4f48-915e-fc2f75342103 button');\n",
              "          quickchartButtonEl.style.display =\n",
              "            google.colab.kernel.accessAllowed ? 'block' : 'none';\n",
              "        })();\n",
              "      </script>\n",
              "    </div>\n",
              "\n",
              "    </div>\n",
              "  </div>\n"
            ],
            "application/vnd.google.colaboratory.intrinsic+json": {
              "type": "dataframe",
              "variable_name": "df",
              "summary": "{\n  \"name\": \"df\",\n  \"rows\": 1004,\n  \"fields\": [\n    {\n      \"column\": \"date\",\n      \"properties\": {\n        \"dtype\": \"object\",\n        \"num_unique_values\": 1004,\n        \"samples\": [\n          \"2024-09-10\",\n          \"2023-07-07\",\n          \"2023-09-20\"\n        ],\n        \"semantic_type\": \"\",\n        \"description\": \"\"\n      }\n    },\n    {\n      \"column\": \"open\",\n      \"properties\": {\n        \"dtype\": \"number\",\n        \"std\": 60.13735018338771,\n        \"min\": 103.0,\n        \"max\": 475.9,\n        \"num_unique_values\": 967,\n        \"samples\": [\n          366.21,\n          197.08,\n          176.06\n        ],\n        \"semantic_type\": \"\",\n        \"description\": \"\"\n      }\n    },\n    {\n      \"column\": \"high\",\n      \"properties\": {\n        \"dtype\": \"number\",\n        \"std\": 61.63402268262378,\n        \"min\": 111.75,\n        \"max\": 488.54,\n        \"num_unique_values\": 966,\n        \"samples\": [\n          372.33,\n          185.2,\n          186.0\n        ],\n        \"semantic_type\": \"\",\n        \"description\": \"\"\n      }\n    },\n    {\n      \"column\": \"low\",\n      \"properties\": {\n        \"dtype\": \"number\",\n        \"std\": 58.29715372561471,\n        \"min\": 101.81,\n        \"max\": 457.51,\n        \"num_unique_values\": 975,\n        \"samples\": [\n          285.79,\n          171.8,\n          246.12\n        ],\n        \"semantic_type\": \"\",\n        \"description\": \"\"\n      }\n    },\n    {\n      \"column\": \"close\",\n      \"properties\": {\n        \"dtype\": \"number\",\n        \"std\": 60.01509131795479,\n        \"min\": 108.1,\n        \"max\": 479.86,\n        \"num_unique_values\": 975,\n        \"samples\": [\n          341.62,\n          179.83,\n          243.39\n        ],\n        \"semantic_type\": \"\",\n        \"description\": \"\"\n      }\n    },\n    {\n      \"column\": \"adj_close\",\n      \"properties\": {\n        \"dtype\": \"number\",\n        \"std\": 60.01509131795479,\n        \"min\": 108.1,\n        \"max\": 479.86,\n        \"num_unique_values\": 975,\n        \"samples\": [\n          341.62,\n          179.83,\n          243.39\n        ],\n        \"semantic_type\": \"\",\n        \"description\": \"\"\n      }\n    },\n    {\n      \"column\": \"volume\",\n      \"properties\": {\n        \"dtype\": \"number\",\n        \"std\": 40236753,\n        \"min\": 29401800,\n        \"max\": 306590600,\n        \"num_unique_values\": 1004,\n        \"samples\": [\n          78891100,\n          113602000,\n          122514600\n        ],\n        \"semantic_type\": \"\",\n        \"description\": \"\"\n      }\n    }\n  ]\n}"
            }
          },
          "metadata": {},
          "execution_count": 5
        }
      ]
    },
    {
      "cell_type": "markdown",
      "source": [
        "A statistical summary can be extracted with the method `.describe()`. Note that the column `date`, which is not numeric, is omitted."
      ],
      "metadata": {
        "id": "0Tio4zLFR7Gd"
      }
    },
    {
      "cell_type": "code",
      "source": [
        "df.describe()"
      ],
      "metadata": {
        "id": "Ewg3ongKSHa2",
        "colab": {
          "base_uri": "https://localhost:8080/",
          "height": 300
        },
        "outputId": "15dd0548-9677-409c-94b6-6e006a73edb7"
      },
      "execution_count": 6,
      "outputs": [
        {
          "output_type": "execute_result",
          "data": {
            "text/plain": [
              "              open         high          low        close    adj_close  \\\n",
              "count  1004.000000  1004.000000  1004.000000  1004.000000  1004.000000   \n",
              "mean    242.784602   248.109552   237.092639   242.665199   242.665199   \n",
              "std      60.137350    61.634023    58.297154    60.015091    60.015091   \n",
              "min     103.000000   111.750000   101.810000   108.100000   108.100000   \n",
              "25%     200.160000   204.407500   195.117500   200.337500   200.337500   \n",
              "50%     235.690000   240.245000   232.070000   236.520000   236.520000   \n",
              "75%     273.100000   279.097500   266.617500   272.017500   272.017500   \n",
              "max     475.900000   488.540000   457.510000   479.860000   479.860000   \n",
              "\n",
              "             volume  \n",
              "count  1.004000e+03  \n",
              "mean   1.002799e+08  \n",
              "std    4.023675e+07  \n",
              "min    2.940180e+07  \n",
              "25%    7.022625e+07  \n",
              "50%    9.311910e+07  \n",
              "75%    1.204181e+08  \n",
              "max    3.065906e+08  "
            ],
            "text/html": [
              "\n",
              "  <div id=\"df-07f51c58-8947-4451-97f1-9c1ca0284bd6\" class=\"colab-df-container\">\n",
              "    <div>\n",
              "<style scoped>\n",
              "    .dataframe tbody tr th:only-of-type {\n",
              "        vertical-align: middle;\n",
              "    }\n",
              "\n",
              "    .dataframe tbody tr th {\n",
              "        vertical-align: top;\n",
              "    }\n",
              "\n",
              "    .dataframe thead th {\n",
              "        text-align: right;\n",
              "    }\n",
              "</style>\n",
              "<table border=\"1\" class=\"dataframe\">\n",
              "  <thead>\n",
              "    <tr style=\"text-align: right;\">\n",
              "      <th></th>\n",
              "      <th>open</th>\n",
              "      <th>high</th>\n",
              "      <th>low</th>\n",
              "      <th>close</th>\n",
              "      <th>adj_close</th>\n",
              "      <th>volume</th>\n",
              "    </tr>\n",
              "  </thead>\n",
              "  <tbody>\n",
              "    <tr>\n",
              "      <th>count</th>\n",
              "      <td>1004.000000</td>\n",
              "      <td>1004.000000</td>\n",
              "      <td>1004.000000</td>\n",
              "      <td>1004.000000</td>\n",
              "      <td>1004.000000</td>\n",
              "      <td>1.004000e+03</td>\n",
              "    </tr>\n",
              "    <tr>\n",
              "      <th>mean</th>\n",
              "      <td>242.784602</td>\n",
              "      <td>248.109552</td>\n",
              "      <td>237.092639</td>\n",
              "      <td>242.665199</td>\n",
              "      <td>242.665199</td>\n",
              "      <td>1.002799e+08</td>\n",
              "    </tr>\n",
              "    <tr>\n",
              "      <th>std</th>\n",
              "      <td>60.137350</td>\n",
              "      <td>61.634023</td>\n",
              "      <td>58.297154</td>\n",
              "      <td>60.015091</td>\n",
              "      <td>60.015091</td>\n",
              "      <td>4.023675e+07</td>\n",
              "    </tr>\n",
              "    <tr>\n",
              "      <th>min</th>\n",
              "      <td>103.000000</td>\n",
              "      <td>111.750000</td>\n",
              "      <td>101.810000</td>\n",
              "      <td>108.100000</td>\n",
              "      <td>108.100000</td>\n",
              "      <td>2.940180e+07</td>\n",
              "    </tr>\n",
              "    <tr>\n",
              "      <th>25%</th>\n",
              "      <td>200.160000</td>\n",
              "      <td>204.407500</td>\n",
              "      <td>195.117500</td>\n",
              "      <td>200.337500</td>\n",
              "      <td>200.337500</td>\n",
              "      <td>7.022625e+07</td>\n",
              "    </tr>\n",
              "    <tr>\n",
              "      <th>50%</th>\n",
              "      <td>235.690000</td>\n",
              "      <td>240.245000</td>\n",
              "      <td>232.070000</td>\n",
              "      <td>236.520000</td>\n",
              "      <td>236.520000</td>\n",
              "      <td>9.311910e+07</td>\n",
              "    </tr>\n",
              "    <tr>\n",
              "      <th>75%</th>\n",
              "      <td>273.100000</td>\n",
              "      <td>279.097500</td>\n",
              "      <td>266.617500</td>\n",
              "      <td>272.017500</td>\n",
              "      <td>272.017500</td>\n",
              "      <td>1.204181e+08</td>\n",
              "    </tr>\n",
              "    <tr>\n",
              "      <th>max</th>\n",
              "      <td>475.900000</td>\n",
              "      <td>488.540000</td>\n",
              "      <td>457.510000</td>\n",
              "      <td>479.860000</td>\n",
              "      <td>479.860000</td>\n",
              "      <td>3.065906e+08</td>\n",
              "    </tr>\n",
              "  </tbody>\n",
              "</table>\n",
              "</div>\n",
              "    <div class=\"colab-df-buttons\">\n",
              "\n",
              "  <div class=\"colab-df-container\">\n",
              "    <button class=\"colab-df-convert\" onclick=\"convertToInteractive('df-07f51c58-8947-4451-97f1-9c1ca0284bd6')\"\n",
              "            title=\"Convert this dataframe to an interactive table.\"\n",
              "            style=\"display:none;\">\n",
              "\n",
              "  <svg xmlns=\"http://www.w3.org/2000/svg\" height=\"24px\" viewBox=\"0 -960 960 960\">\n",
              "    <path d=\"M120-120v-720h720v720H120Zm60-500h600v-160H180v160Zm220 220h160v-160H400v160Zm0 220h160v-160H400v160ZM180-400h160v-160H180v160Zm440 0h160v-160H620v160ZM180-180h160v-160H180v160Zm440 0h160v-160H620v160Z\"/>\n",
              "  </svg>\n",
              "    </button>\n",
              "\n",
              "  <style>\n",
              "    .colab-df-container {\n",
              "      display:flex;\n",
              "      gap: 12px;\n",
              "    }\n",
              "\n",
              "    .colab-df-convert {\n",
              "      background-color: #E8F0FE;\n",
              "      border: none;\n",
              "      border-radius: 50%;\n",
              "      cursor: pointer;\n",
              "      display: none;\n",
              "      fill: #1967D2;\n",
              "      height: 32px;\n",
              "      padding: 0 0 0 0;\n",
              "      width: 32px;\n",
              "    }\n",
              "\n",
              "    .colab-df-convert:hover {\n",
              "      background-color: #E2EBFA;\n",
              "      box-shadow: 0px 1px 2px rgba(60, 64, 67, 0.3), 0px 1px 3px 1px rgba(60, 64, 67, 0.15);\n",
              "      fill: #174EA6;\n",
              "    }\n",
              "\n",
              "    .colab-df-buttons div {\n",
              "      margin-bottom: 4px;\n",
              "    }\n",
              "\n",
              "    [theme=dark] .colab-df-convert {\n",
              "      background-color: #3B4455;\n",
              "      fill: #D2E3FC;\n",
              "    }\n",
              "\n",
              "    [theme=dark] .colab-df-convert:hover {\n",
              "      background-color: #434B5C;\n",
              "      box-shadow: 0px 1px 3px 1px rgba(0, 0, 0, 0.15);\n",
              "      filter: drop-shadow(0px 1px 2px rgba(0, 0, 0, 0.3));\n",
              "      fill: #FFFFFF;\n",
              "    }\n",
              "  </style>\n",
              "\n",
              "    <script>\n",
              "      const buttonEl =\n",
              "        document.querySelector('#df-07f51c58-8947-4451-97f1-9c1ca0284bd6 button.colab-df-convert');\n",
              "      buttonEl.style.display =\n",
              "        google.colab.kernel.accessAllowed ? 'block' : 'none';\n",
              "\n",
              "      async function convertToInteractive(key) {\n",
              "        const element = document.querySelector('#df-07f51c58-8947-4451-97f1-9c1ca0284bd6');\n",
              "        const dataTable =\n",
              "          await google.colab.kernel.invokeFunction('convertToInteractive',\n",
              "                                                    [key], {});\n",
              "        if (!dataTable) return;\n",
              "\n",
              "        const docLinkHtml = 'Like what you see? Visit the ' +\n",
              "          '<a target=\"_blank\" href=https://colab.research.google.com/notebooks/data_table.ipynb>data table notebook</a>'\n",
              "          + ' to learn more about interactive tables.';\n",
              "        element.innerHTML = '';\n",
              "        dataTable['output_type'] = 'display_data';\n",
              "        await google.colab.output.renderOutput(dataTable, element);\n",
              "        const docLink = document.createElement('div');\n",
              "        docLink.innerHTML = docLinkHtml;\n",
              "        element.appendChild(docLink);\n",
              "      }\n",
              "    </script>\n",
              "  </div>\n",
              "\n",
              "\n",
              "    <div id=\"df-ae69fcbf-2224-4982-bf77-a2177d9d812f\">\n",
              "      <button class=\"colab-df-quickchart\" onclick=\"quickchart('df-ae69fcbf-2224-4982-bf77-a2177d9d812f')\"\n",
              "                title=\"Suggest charts\"\n",
              "                style=\"display:none;\">\n",
              "\n",
              "<svg xmlns=\"http://www.w3.org/2000/svg\" height=\"24px\"viewBox=\"0 0 24 24\"\n",
              "     width=\"24px\">\n",
              "    <g>\n",
              "        <path d=\"M19 3H5c-1.1 0-2 .9-2 2v14c0 1.1.9 2 2 2h14c1.1 0 2-.9 2-2V5c0-1.1-.9-2-2-2zM9 17H7v-7h2v7zm4 0h-2V7h2v10zm4 0h-2v-4h2v4z\"/>\n",
              "    </g>\n",
              "</svg>\n",
              "      </button>\n",
              "\n",
              "<style>\n",
              "  .colab-df-quickchart {\n",
              "      --bg-color: #E8F0FE;\n",
              "      --fill-color: #1967D2;\n",
              "      --hover-bg-color: #E2EBFA;\n",
              "      --hover-fill-color: #174EA6;\n",
              "      --disabled-fill-color: #AAA;\n",
              "      --disabled-bg-color: #DDD;\n",
              "  }\n",
              "\n",
              "  [theme=dark] .colab-df-quickchart {\n",
              "      --bg-color: #3B4455;\n",
              "      --fill-color: #D2E3FC;\n",
              "      --hover-bg-color: #434B5C;\n",
              "      --hover-fill-color: #FFFFFF;\n",
              "      --disabled-bg-color: #3B4455;\n",
              "      --disabled-fill-color: #666;\n",
              "  }\n",
              "\n",
              "  .colab-df-quickchart {\n",
              "    background-color: var(--bg-color);\n",
              "    border: none;\n",
              "    border-radius: 50%;\n",
              "    cursor: pointer;\n",
              "    display: none;\n",
              "    fill: var(--fill-color);\n",
              "    height: 32px;\n",
              "    padding: 0;\n",
              "    width: 32px;\n",
              "  }\n",
              "\n",
              "  .colab-df-quickchart:hover {\n",
              "    background-color: var(--hover-bg-color);\n",
              "    box-shadow: 0 1px 2px rgba(60, 64, 67, 0.3), 0 1px 3px 1px rgba(60, 64, 67, 0.15);\n",
              "    fill: var(--button-hover-fill-color);\n",
              "  }\n",
              "\n",
              "  .colab-df-quickchart-complete:disabled,\n",
              "  .colab-df-quickchart-complete:disabled:hover {\n",
              "    background-color: var(--disabled-bg-color);\n",
              "    fill: var(--disabled-fill-color);\n",
              "    box-shadow: none;\n",
              "  }\n",
              "\n",
              "  .colab-df-spinner {\n",
              "    border: 2px solid var(--fill-color);\n",
              "    border-color: transparent;\n",
              "    border-bottom-color: var(--fill-color);\n",
              "    animation:\n",
              "      spin 1s steps(1) infinite;\n",
              "  }\n",
              "\n",
              "  @keyframes spin {\n",
              "    0% {\n",
              "      border-color: transparent;\n",
              "      border-bottom-color: var(--fill-color);\n",
              "      border-left-color: var(--fill-color);\n",
              "    }\n",
              "    20% {\n",
              "      border-color: transparent;\n",
              "      border-left-color: var(--fill-color);\n",
              "      border-top-color: var(--fill-color);\n",
              "    }\n",
              "    30% {\n",
              "      border-color: transparent;\n",
              "      border-left-color: var(--fill-color);\n",
              "      border-top-color: var(--fill-color);\n",
              "      border-right-color: var(--fill-color);\n",
              "    }\n",
              "    40% {\n",
              "      border-color: transparent;\n",
              "      border-right-color: var(--fill-color);\n",
              "      border-top-color: var(--fill-color);\n",
              "    }\n",
              "    60% {\n",
              "      border-color: transparent;\n",
              "      border-right-color: var(--fill-color);\n",
              "    }\n",
              "    80% {\n",
              "      border-color: transparent;\n",
              "      border-right-color: var(--fill-color);\n",
              "      border-bottom-color: var(--fill-color);\n",
              "    }\n",
              "    90% {\n",
              "      border-color: transparent;\n",
              "      border-bottom-color: var(--fill-color);\n",
              "    }\n",
              "  }\n",
              "</style>\n",
              "\n",
              "      <script>\n",
              "        async function quickchart(key) {\n",
              "          const quickchartButtonEl =\n",
              "            document.querySelector('#' + key + ' button');\n",
              "          quickchartButtonEl.disabled = true;  // To prevent multiple clicks.\n",
              "          quickchartButtonEl.classList.add('colab-df-spinner');\n",
              "          try {\n",
              "            const charts = await google.colab.kernel.invokeFunction(\n",
              "                'suggestCharts', [key], {});\n",
              "          } catch (error) {\n",
              "            console.error('Error during call to suggestCharts:', error);\n",
              "          }\n",
              "          quickchartButtonEl.classList.remove('colab-df-spinner');\n",
              "          quickchartButtonEl.classList.add('colab-df-quickchart-complete');\n",
              "        }\n",
              "        (() => {\n",
              "          let quickchartButtonEl =\n",
              "            document.querySelector('#df-ae69fcbf-2224-4982-bf77-a2177d9d812f button');\n",
              "          quickchartButtonEl.style.display =\n",
              "            google.colab.kernel.accessAllowed ? 'block' : 'none';\n",
              "        })();\n",
              "      </script>\n",
              "    </div>\n",
              "\n",
              "    </div>\n",
              "  </div>\n"
            ],
            "application/vnd.google.colaboratory.intrinsic+json": {
              "type": "dataframe",
              "summary": "{\n  \"name\": \"df\",\n  \"rows\": 8,\n  \"fields\": [\n    {\n      \"column\": \"open\",\n      \"properties\": {\n        \"dtype\": \"number\",\n        \"std\": 301.48653136037404,\n        \"min\": 60.13735018338771,\n        \"max\": 1004.0,\n        \"num_unique_values\": 8,\n        \"samples\": [\n          242.7846015936255,\n          235.69,\n          1004.0\n        ],\n        \"semantic_type\": \"\",\n        \"description\": \"\"\n      }\n    },\n    {\n      \"column\": \"high\",\n      \"properties\": {\n        \"dtype\": \"number\",\n        \"std\": 300.5210294302734,\n        \"min\": 61.63402268262378,\n        \"max\": 1004.0,\n        \"num_unique_values\": 8,\n        \"samples\": [\n          248.10955179282868,\n          240.245,\n          1004.0\n        ],\n        \"semantic_type\": \"\",\n        \"description\": \"\"\n      }\n    },\n    {\n      \"column\": \"low\",\n      \"properties\": {\n        \"dtype\": \"number\",\n        \"std\": 301.40241203298416,\n        \"min\": 58.29715372561471,\n        \"max\": 1004.0,\n        \"num_unique_values\": 8,\n        \"samples\": [\n          237.09263944223108,\n          232.07,\n          1004.0\n        ],\n        \"semantic_type\": \"\",\n        \"description\": \"\"\n      }\n    },\n    {\n      \"column\": \"close\",\n      \"properties\": {\n        \"dtype\": \"number\",\n        \"std\": 301.2448697383082,\n        \"min\": 60.01509131795479,\n        \"max\": 1004.0,\n        \"num_unique_values\": 8,\n        \"samples\": [\n          242.66519920318723,\n          236.51999999999998,\n          1004.0\n        ],\n        \"semantic_type\": \"\",\n        \"description\": \"\"\n      }\n    },\n    {\n      \"column\": \"adj_close\",\n      \"properties\": {\n        \"dtype\": \"number\",\n        \"std\": 301.2448697383082,\n        \"min\": 60.01509131795479,\n        \"max\": 1004.0,\n        \"num_unique_values\": 8,\n        \"samples\": [\n          242.66519920318723,\n          236.51999999999998,\n          1004.0\n        ],\n        \"semantic_type\": \"\",\n        \"description\": \"\"\n      }\n    },\n    {\n      \"column\": \"volume\",\n      \"properties\": {\n        \"dtype\": \"number\",\n        \"std\": 94406986.64646208,\n        \"min\": 1004.0,\n        \"max\": 306590600.0,\n        \"num_unique_values\": 8,\n        \"samples\": [\n          100279906.47410358,\n          93119100.0,\n          1004.0\n        ],\n        \"semantic_type\": \"\",\n        \"description\": \"\"\n      }\n    }\n  ]\n}"
            }
          },
          "metadata": {},
          "execution_count": 6
        }
      ]
    },
    {
      "cell_type": "markdown",
      "source": [
        "## Q1. Data previous to January 15th"
      ],
      "metadata": {
        "id": "2LuS8mbVSKS5"
      }
    },
    {
      "cell_type": "markdown",
      "source": [
        "Filtering by date is common for this type of data. In Pandas, we can extract rows of a data frame by means of an expression that matches exactly these rows (in SQL, this is called a `WHERE` condition). For this question, that expression can be `df['date'] < '2021-01-15'`."
      ],
      "metadata": {
        "id": "0hOTTUgaSVJY"
      }
    },
    {
      "cell_type": "code",
      "source": [
        "filter_expr = df['date'] < '2021-01-15'\n",
        "df[filter_expr]"
      ],
      "metadata": {
        "id": "ygXDdj6L4hOT",
        "colab": {
          "base_uri": "https://localhost:8080/",
          "height": 332
        },
        "outputId": "813a1778-dda7-45f9-8094-1c1e259222f7"
      },
      "execution_count": 7,
      "outputs": [
        {
          "output_type": "execute_result",
          "data": {
            "text/plain": [
              "         date    open    high     low   close  adj_close     volume\n",
              "0  2021-01-04  239.82  248.16  239.06  243.26     243.26  145914600\n",
              "1  2021-01-05  241.22  246.95  239.73  245.04     245.04   96735600\n",
              "2  2021-01-06  252.83  258.00  249.70  251.99     251.99  134100000\n",
              "3  2021-01-07  259.21  272.33  258.40  272.01     272.01  154496700\n",
              "4  2021-01-08  285.33  294.83  279.46  293.34     293.34  225166500\n",
              "5  2021-01-11  283.13  284.81  267.87  270.40     270.40  177904800\n",
              "6  2021-01-12  277.00  289.33  275.78  283.15     283.15  138812100\n",
              "7  2021-01-13  284.25  286.82  277.33  284.80     284.80   99937500\n",
              "8  2021-01-14  281.13  287.67  279.58  281.67     281.67   93798900"
            ],
            "text/html": [
              "\n",
              "  <div id=\"df-4bb61ea3-1224-454a-84a1-fa7407135444\" class=\"colab-df-container\">\n",
              "    <div>\n",
              "<style scoped>\n",
              "    .dataframe tbody tr th:only-of-type {\n",
              "        vertical-align: middle;\n",
              "    }\n",
              "\n",
              "    .dataframe tbody tr th {\n",
              "        vertical-align: top;\n",
              "    }\n",
              "\n",
              "    .dataframe thead th {\n",
              "        text-align: right;\n",
              "    }\n",
              "</style>\n",
              "<table border=\"1\" class=\"dataframe\">\n",
              "  <thead>\n",
              "    <tr style=\"text-align: right;\">\n",
              "      <th></th>\n",
              "      <th>date</th>\n",
              "      <th>open</th>\n",
              "      <th>high</th>\n",
              "      <th>low</th>\n",
              "      <th>close</th>\n",
              "      <th>adj_close</th>\n",
              "      <th>volume</th>\n",
              "    </tr>\n",
              "  </thead>\n",
              "  <tbody>\n",
              "    <tr>\n",
              "      <th>0</th>\n",
              "      <td>2021-01-04</td>\n",
              "      <td>239.82</td>\n",
              "      <td>248.16</td>\n",
              "      <td>239.06</td>\n",
              "      <td>243.26</td>\n",
              "      <td>243.26</td>\n",
              "      <td>145914600</td>\n",
              "    </tr>\n",
              "    <tr>\n",
              "      <th>1</th>\n",
              "      <td>2021-01-05</td>\n",
              "      <td>241.22</td>\n",
              "      <td>246.95</td>\n",
              "      <td>239.73</td>\n",
              "      <td>245.04</td>\n",
              "      <td>245.04</td>\n",
              "      <td>96735600</td>\n",
              "    </tr>\n",
              "    <tr>\n",
              "      <th>2</th>\n",
              "      <td>2021-01-06</td>\n",
              "      <td>252.83</td>\n",
              "      <td>258.00</td>\n",
              "      <td>249.70</td>\n",
              "      <td>251.99</td>\n",
              "      <td>251.99</td>\n",
              "      <td>134100000</td>\n",
              "    </tr>\n",
              "    <tr>\n",
              "      <th>3</th>\n",
              "      <td>2021-01-07</td>\n",
              "      <td>259.21</td>\n",
              "      <td>272.33</td>\n",
              "      <td>258.40</td>\n",
              "      <td>272.01</td>\n",
              "      <td>272.01</td>\n",
              "      <td>154496700</td>\n",
              "    </tr>\n",
              "    <tr>\n",
              "      <th>4</th>\n",
              "      <td>2021-01-08</td>\n",
              "      <td>285.33</td>\n",
              "      <td>294.83</td>\n",
              "      <td>279.46</td>\n",
              "      <td>293.34</td>\n",
              "      <td>293.34</td>\n",
              "      <td>225166500</td>\n",
              "    </tr>\n",
              "    <tr>\n",
              "      <th>5</th>\n",
              "      <td>2021-01-11</td>\n",
              "      <td>283.13</td>\n",
              "      <td>284.81</td>\n",
              "      <td>267.87</td>\n",
              "      <td>270.40</td>\n",
              "      <td>270.40</td>\n",
              "      <td>177904800</td>\n",
              "    </tr>\n",
              "    <tr>\n",
              "      <th>6</th>\n",
              "      <td>2021-01-12</td>\n",
              "      <td>277.00</td>\n",
              "      <td>289.33</td>\n",
              "      <td>275.78</td>\n",
              "      <td>283.15</td>\n",
              "      <td>283.15</td>\n",
              "      <td>138812100</td>\n",
              "    </tr>\n",
              "    <tr>\n",
              "      <th>7</th>\n",
              "      <td>2021-01-13</td>\n",
              "      <td>284.25</td>\n",
              "      <td>286.82</td>\n",
              "      <td>277.33</td>\n",
              "      <td>284.80</td>\n",
              "      <td>284.80</td>\n",
              "      <td>99937500</td>\n",
              "    </tr>\n",
              "    <tr>\n",
              "      <th>8</th>\n",
              "      <td>2021-01-14</td>\n",
              "      <td>281.13</td>\n",
              "      <td>287.67</td>\n",
              "      <td>279.58</td>\n",
              "      <td>281.67</td>\n",
              "      <td>281.67</td>\n",
              "      <td>93798900</td>\n",
              "    </tr>\n",
              "  </tbody>\n",
              "</table>\n",
              "</div>\n",
              "    <div class=\"colab-df-buttons\">\n",
              "\n",
              "  <div class=\"colab-df-container\">\n",
              "    <button class=\"colab-df-convert\" onclick=\"convertToInteractive('df-4bb61ea3-1224-454a-84a1-fa7407135444')\"\n",
              "            title=\"Convert this dataframe to an interactive table.\"\n",
              "            style=\"display:none;\">\n",
              "\n",
              "  <svg xmlns=\"http://www.w3.org/2000/svg\" height=\"24px\" viewBox=\"0 -960 960 960\">\n",
              "    <path d=\"M120-120v-720h720v720H120Zm60-500h600v-160H180v160Zm220 220h160v-160H400v160Zm0 220h160v-160H400v160ZM180-400h160v-160H180v160Zm440 0h160v-160H620v160ZM180-180h160v-160H180v160Zm440 0h160v-160H620v160Z\"/>\n",
              "  </svg>\n",
              "    </button>\n",
              "\n",
              "  <style>\n",
              "    .colab-df-container {\n",
              "      display:flex;\n",
              "      gap: 12px;\n",
              "    }\n",
              "\n",
              "    .colab-df-convert {\n",
              "      background-color: #E8F0FE;\n",
              "      border: none;\n",
              "      border-radius: 50%;\n",
              "      cursor: pointer;\n",
              "      display: none;\n",
              "      fill: #1967D2;\n",
              "      height: 32px;\n",
              "      padding: 0 0 0 0;\n",
              "      width: 32px;\n",
              "    }\n",
              "\n",
              "    .colab-df-convert:hover {\n",
              "      background-color: #E2EBFA;\n",
              "      box-shadow: 0px 1px 2px rgba(60, 64, 67, 0.3), 0px 1px 3px 1px rgba(60, 64, 67, 0.15);\n",
              "      fill: #174EA6;\n",
              "    }\n",
              "\n",
              "    .colab-df-buttons div {\n",
              "      margin-bottom: 4px;\n",
              "    }\n",
              "\n",
              "    [theme=dark] .colab-df-convert {\n",
              "      background-color: #3B4455;\n",
              "      fill: #D2E3FC;\n",
              "    }\n",
              "\n",
              "    [theme=dark] .colab-df-convert:hover {\n",
              "      background-color: #434B5C;\n",
              "      box-shadow: 0px 1px 3px 1px rgba(0, 0, 0, 0.15);\n",
              "      filter: drop-shadow(0px 1px 2px rgba(0, 0, 0, 0.3));\n",
              "      fill: #FFFFFF;\n",
              "    }\n",
              "  </style>\n",
              "\n",
              "    <script>\n",
              "      const buttonEl =\n",
              "        document.querySelector('#df-4bb61ea3-1224-454a-84a1-fa7407135444 button.colab-df-convert');\n",
              "      buttonEl.style.display =\n",
              "        google.colab.kernel.accessAllowed ? 'block' : 'none';\n",
              "\n",
              "      async function convertToInteractive(key) {\n",
              "        const element = document.querySelector('#df-4bb61ea3-1224-454a-84a1-fa7407135444');\n",
              "        const dataTable =\n",
              "          await google.colab.kernel.invokeFunction('convertToInteractive',\n",
              "                                                    [key], {});\n",
              "        if (!dataTable) return;\n",
              "\n",
              "        const docLinkHtml = 'Like what you see? Visit the ' +\n",
              "          '<a target=\"_blank\" href=https://colab.research.google.com/notebooks/data_table.ipynb>data table notebook</a>'\n",
              "          + ' to learn more about interactive tables.';\n",
              "        element.innerHTML = '';\n",
              "        dataTable['output_type'] = 'display_data';\n",
              "        await google.colab.output.renderOutput(dataTable, element);\n",
              "        const docLink = document.createElement('div');\n",
              "        docLink.innerHTML = docLinkHtml;\n",
              "        element.appendChild(docLink);\n",
              "      }\n",
              "    </script>\n",
              "  </div>\n",
              "\n",
              "\n",
              "    <div id=\"df-f4992cc1-d3b3-4b00-b594-ced568b76cab\">\n",
              "      <button class=\"colab-df-quickchart\" onclick=\"quickchart('df-f4992cc1-d3b3-4b00-b594-ced568b76cab')\"\n",
              "                title=\"Suggest charts\"\n",
              "                style=\"display:none;\">\n",
              "\n",
              "<svg xmlns=\"http://www.w3.org/2000/svg\" height=\"24px\"viewBox=\"0 0 24 24\"\n",
              "     width=\"24px\">\n",
              "    <g>\n",
              "        <path d=\"M19 3H5c-1.1 0-2 .9-2 2v14c0 1.1.9 2 2 2h14c1.1 0 2-.9 2-2V5c0-1.1-.9-2-2-2zM9 17H7v-7h2v7zm4 0h-2V7h2v10zm4 0h-2v-4h2v4z\"/>\n",
              "    </g>\n",
              "</svg>\n",
              "      </button>\n",
              "\n",
              "<style>\n",
              "  .colab-df-quickchart {\n",
              "      --bg-color: #E8F0FE;\n",
              "      --fill-color: #1967D2;\n",
              "      --hover-bg-color: #E2EBFA;\n",
              "      --hover-fill-color: #174EA6;\n",
              "      --disabled-fill-color: #AAA;\n",
              "      --disabled-bg-color: #DDD;\n",
              "  }\n",
              "\n",
              "  [theme=dark] .colab-df-quickchart {\n",
              "      --bg-color: #3B4455;\n",
              "      --fill-color: #D2E3FC;\n",
              "      --hover-bg-color: #434B5C;\n",
              "      --hover-fill-color: #FFFFFF;\n",
              "      --disabled-bg-color: #3B4455;\n",
              "      --disabled-fill-color: #666;\n",
              "  }\n",
              "\n",
              "  .colab-df-quickchart {\n",
              "    background-color: var(--bg-color);\n",
              "    border: none;\n",
              "    border-radius: 50%;\n",
              "    cursor: pointer;\n",
              "    display: none;\n",
              "    fill: var(--fill-color);\n",
              "    height: 32px;\n",
              "    padding: 0;\n",
              "    width: 32px;\n",
              "  }\n",
              "\n",
              "  .colab-df-quickchart:hover {\n",
              "    background-color: var(--hover-bg-color);\n",
              "    box-shadow: 0 1px 2px rgba(60, 64, 67, 0.3), 0 1px 3px 1px rgba(60, 64, 67, 0.15);\n",
              "    fill: var(--button-hover-fill-color);\n",
              "  }\n",
              "\n",
              "  .colab-df-quickchart-complete:disabled,\n",
              "  .colab-df-quickchart-complete:disabled:hover {\n",
              "    background-color: var(--disabled-bg-color);\n",
              "    fill: var(--disabled-fill-color);\n",
              "    box-shadow: none;\n",
              "  }\n",
              "\n",
              "  .colab-df-spinner {\n",
              "    border: 2px solid var(--fill-color);\n",
              "    border-color: transparent;\n",
              "    border-bottom-color: var(--fill-color);\n",
              "    animation:\n",
              "      spin 1s steps(1) infinite;\n",
              "  }\n",
              "\n",
              "  @keyframes spin {\n",
              "    0% {\n",
              "      border-color: transparent;\n",
              "      border-bottom-color: var(--fill-color);\n",
              "      border-left-color: var(--fill-color);\n",
              "    }\n",
              "    20% {\n",
              "      border-color: transparent;\n",
              "      border-left-color: var(--fill-color);\n",
              "      border-top-color: var(--fill-color);\n",
              "    }\n",
              "    30% {\n",
              "      border-color: transparent;\n",
              "      border-left-color: var(--fill-color);\n",
              "      border-top-color: var(--fill-color);\n",
              "      border-right-color: var(--fill-color);\n",
              "    }\n",
              "    40% {\n",
              "      border-color: transparent;\n",
              "      border-right-color: var(--fill-color);\n",
              "      border-top-color: var(--fill-color);\n",
              "    }\n",
              "    60% {\n",
              "      border-color: transparent;\n",
              "      border-right-color: var(--fill-color);\n",
              "    }\n",
              "    80% {\n",
              "      border-color: transparent;\n",
              "      border-right-color: var(--fill-color);\n",
              "      border-bottom-color: var(--fill-color);\n",
              "    }\n",
              "    90% {\n",
              "      border-color: transparent;\n",
              "      border-bottom-color: var(--fill-color);\n",
              "    }\n",
              "  }\n",
              "</style>\n",
              "\n",
              "      <script>\n",
              "        async function quickchart(key) {\n",
              "          const quickchartButtonEl =\n",
              "            document.querySelector('#' + key + ' button');\n",
              "          quickchartButtonEl.disabled = true;  // To prevent multiple clicks.\n",
              "          quickchartButtonEl.classList.add('colab-df-spinner');\n",
              "          try {\n",
              "            const charts = await google.colab.kernel.invokeFunction(\n",
              "                'suggestCharts', [key], {});\n",
              "          } catch (error) {\n",
              "            console.error('Error during call to suggestCharts:', error);\n",
              "          }\n",
              "          quickchartButtonEl.classList.remove('colab-df-spinner');\n",
              "          quickchartButtonEl.classList.add('colab-df-quickchart-complete');\n",
              "        }\n",
              "        (() => {\n",
              "          let quickchartButtonEl =\n",
              "            document.querySelector('#df-f4992cc1-d3b3-4b00-b594-ced568b76cab button');\n",
              "          quickchartButtonEl.style.display =\n",
              "            google.colab.kernel.accessAllowed ? 'block' : 'none';\n",
              "        })();\n",
              "      </script>\n",
              "    </div>\n",
              "\n",
              "    </div>\n",
              "  </div>\n"
            ],
            "application/vnd.google.colaboratory.intrinsic+json": {
              "type": "dataframe",
              "summary": "{\n  \"name\": \"df[filter_expr]\",\n  \"rows\": 9,\n  \"fields\": [\n    {\n      \"column\": \"date\",\n      \"properties\": {\n        \"dtype\": \"object\",\n        \"num_unique_values\": 9,\n        \"samples\": [\n          \"2021-01-13\",\n          \"2021-01-05\",\n          \"2021-01-11\"\n        ],\n        \"semantic_type\": \"\",\n        \"description\": \"\"\n      }\n    },\n    {\n      \"column\": \"open\",\n      \"properties\": {\n        \"dtype\": \"number\",\n        \"std\": 18.90147135660196,\n        \"min\": 239.82,\n        \"max\": 285.33,\n        \"num_unique_values\": 9,\n        \"samples\": [\n          284.25,\n          241.22,\n          283.13\n        ],\n        \"semantic_type\": \"\",\n        \"description\": \"\"\n      }\n    },\n    {\n      \"column\": \"high\",\n      \"properties\": {\n        \"dtype\": \"number\",\n        \"std\": 18.68902671206942,\n        \"min\": 246.95,\n        \"max\": 294.83,\n        \"num_unique_values\": 9,\n        \"samples\": [\n          286.82,\n          246.95,\n          284.81\n        ],\n        \"semantic_type\": \"\",\n        \"description\": \"\"\n      }\n    },\n    {\n      \"column\": \"low\",\n      \"properties\": {\n        \"dtype\": \"number\",\n        \"std\": 16.773818140185014,\n        \"min\": 239.06,\n        \"max\": 279.58,\n        \"num_unique_values\": 9,\n        \"samples\": [\n          277.33,\n          239.73,\n          267.87\n        ],\n        \"semantic_type\": \"\",\n        \"description\": \"\"\n      }\n    },\n    {\n      \"column\": \"close\",\n      \"properties\": {\n        \"dtype\": \"number\",\n        \"std\": 18.49798487523558,\n        \"min\": 243.26,\n        \"max\": 293.34,\n        \"num_unique_values\": 9,\n        \"samples\": [\n          284.8,\n          245.04,\n          270.4\n        ],\n        \"semantic_type\": \"\",\n        \"description\": \"\"\n      }\n    },\n    {\n      \"column\": \"adj_close\",\n      \"properties\": {\n        \"dtype\": \"number\",\n        \"std\": 18.49798487523558,\n        \"min\": 243.26,\n        \"max\": 293.34,\n        \"num_unique_values\": 9,\n        \"samples\": [\n          284.8,\n          245.04,\n          270.4\n        ],\n        \"semantic_type\": \"\",\n        \"description\": \"\"\n      }\n    },\n    {\n      \"column\": \"volume\",\n      \"properties\": {\n        \"dtype\": \"number\",\n        \"std\": 42687204,\n        \"min\": 93798900,\n        \"max\": 225166500,\n        \"num_unique_values\": 9,\n        \"samples\": [\n          99937500,\n          96735600,\n          177904800\n        ],\n        \"semantic_type\": \"\",\n        \"description\": \"\"\n      }\n    }\n  ]\n}"
            }
          },
          "metadata": {},
          "execution_count": 7
        }
      ]
    },
    {
      "cell_type": "markdown",
      "source": [
        "## Q2. Line plot for the opening price"
      ],
      "metadata": {
        "id": "144EGCMASmz5"
      }
    },
    {
      "cell_type": "markdown",
      "source": [
        "Analysts typically explore trends in stock prices. For the opening price, the corresponding column is extracted as the series `df['open']`. The method `.plot()` returns a line plot. The role of the parameters `figsize`, `color` and `linewidth` is clear. Though `linewidth=1` is a default argument, it has been explicitly included to call your attention."
      ],
      "metadata": {
        "id": "prCoqFkRTk6L"
      }
    },
    {
      "cell_type": "code",
      "source": [
        "df['open'].plot(figsize=(8,5), title='Figure 1. Opening price (USD)',\n",
        "    color='black', linewidth=1);"
      ],
      "metadata": {
        "id": "g3IsYQSRTrYE",
        "colab": {
          "base_uri": "https://localhost:8080/",
          "height": 468
        },
        "outputId": "789ceda2-a952-4ac6-94f9-e28f3541e51b"
      },
      "execution_count": 8,
      "outputs": [
        {
          "output_type": "display_data",
          "data": {
            "text/plain": [
              "<Figure size 800x500 with 1 Axes>"
            ],
            "image/png": "[encoded data removed]"
          },
          "metadata": {}
        }
      ]
    },
    {
      "cell_type": "markdown",
      "source": [
        "In this case, the line plot does not show an obvious upwards trend, but a sequence of short trends, up and down.\n",
        "\n",
        "*Note*. The semicolon at the end of the code input stops some irrelevant output showing up. It does not affect the plot."
      ],
      "metadata": {
        "id": "V0o9JdOFT6Hr"
      }
    },
    {
      "cell_type": "markdown",
      "source": [
        "## Q3. Line plot and histogram for the trading volume"
      ],
      "metadata": {
        "id": "pN9csiCTWJu9"
      }
    },
    {
      "cell_type": "markdown",
      "source": [
        "The numbers for the trading volume are high, since it comes as a number of shares. In such cases, rescaling can improve the picture. Here, we express the volume in millions of shares:"
      ],
      "metadata": {
        "id": "WxYexFnvWNFh"
      }
    },
    {
      "cell_type": "code",
      "source": [
        "df['volume'] = df['volume']/10**6"
      ],
      "metadata": {
        "id": "-sueSKLGWUru"
      },
      "execution_count": 9,
      "outputs": []
    },
    {
      "cell_type": "markdown",
      "source": [
        "A line plot for the trading volume can be obtained just as for the opening price."
      ],
      "metadata": {
        "id": "DlBjJQs1WXah"
      }
    },
    {
      "cell_type": "code",
      "source": [
        "df['volume'].plot(figsize=(8,5), title='Figure 2. Trading volume (million shares)',\n",
        "    color='black', linewidth=1);"
      ],
      "metadata": {
        "id": "d11-hZ6IWZq4",
        "colab": {
          "base_uri": "https://localhost:8080/",
          "height": 468
        },
        "outputId": "f370c1de-3ef3-4011-bf12-87629c5a8fe8"
      },
      "execution_count": 10,
      "outputs": [
        {
          "output_type": "display_data",
          "data": {
            "text/plain": [
              "<Figure size 800x500 with 1 Axes>"
            ],
            "image/png": "[encoded data removed]"
          },
          "metadata": {}
        }
      ]
    },
    {
      "cell_type": "markdown",
      "source": [
        "The trading volume looks quite **stationary**. So, it may make sense to look at the distribution of the daily volumes, as if they were extracted from a \"population\". The histogram is a quick and dirty graphical tool for viusualizing a statistical distribution.\n",
        "\n",
        "In Pandas, the method `.plot.hist()` returns a histogram. The argument `edgecolor='white'` improves the picture (you may disagree), delineating the border of the histogram bars."
      ],
      "metadata": {
        "id": "d4sVq3nkWc1p"
      }
    },
    {
      "cell_type": "code",
      "source": [
        "df['volume'].plot.hist(figsize=(7,5),\n",
        "    title='Figure 3. Trading volume (alternative visualization)',\n",
        "    color='gray', edgecolor='white', xlabel='Trading volume (million shares)');"
      ],
      "metadata": {
        "id": "ZmMepkBWWuVx",
        "colab": {
          "base_uri": "https://localhost:8080/",
          "height": 487
        },
        "outputId": "68113951-4418-4df2-e69c-19a6b6ea2660"
      },
      "execution_count": 11,
      "outputs": [
        {
          "output_type": "display_data",
          "data": {
            "text/plain": [
              "<Figure size 700x500 with 1 Axes>"
            ],
            "image/png": "[encoded data removed]"
          },
          "metadata": {}
        }
      ]
    },
    {
      "cell_type": "markdown",
      "source": [
        "We don't see here the bell-shaped profile of the statisticians' beloved model, the **normal distribution**, but that of a **skewed distribution**. This type of distribution, with a well-defined **right tail**, is typical of variables whose values are amounts of money.\n"
      ],
      "metadata": {
        "id": "buZKQFIEWyX1"
      }
    },
    {
      "cell_type": "markdown",
      "source": [
        "## Q4. Analysis of the daily price variation"
      ],
      "metadata": {
        "id": "YSoWQmzsW6YN"
      }
    },
    {
      "cell_type": "markdown",
      "source": [
        "We can calculate the daily price variation and keep it as a separate series, or add it as a new column to the current data frame `df`. We choose here the second option.\n"
      ],
      "metadata": {
        "id": "sy9H4XWgW9rt"
      }
    },
    {
      "cell_type": "code",
      "source": [
        "df['dvar'] = df['high'] - df['low']"
      ],
      "metadata": {
        "id": "cOR5RQF6W_ys"
      },
      "execution_count": 12,
      "outputs": []
    },
    {
      "cell_type": "markdown",
      "source": [
        "Now, when  displaying the heading rows of the new data frame, we see the new column on the right side."
      ],
      "metadata": {
        "id": "xkDYclx8XCpi"
      }
    },
    {
      "cell_type": "code",
      "source": [
        "df.head()"
      ],
      "metadata": {
        "id": "LkcwT9yqXFn3",
        "colab": {
          "base_uri": "https://localhost:8080/",
          "height": 206
        },
        "outputId": "1357012b-3078-46e9-fcd2-c9c426943962"
      },
      "execution_count": 14,
      "outputs": [
        {
          "output_type": "execute_result",
          "data": {
            "text/plain": [
              "         date    open    high     low   close  adj_close    volume   dvar\n",
              "0  2021-01-04  239.82  248.16  239.06  243.26     243.26  145.9146   9.10\n",
              "1  2021-01-05  241.22  246.95  239.73  245.04     245.04   96.7356   7.22\n",
              "2  2021-01-06  252.83  258.00  249.70  251.99     251.99  134.1000   8.30\n",
              "3  2021-01-07  259.21  272.33  258.40  272.01     272.01  154.4967  13.93\n",
              "4  2021-01-08  285.33  294.83  279.46  293.34     293.34  225.1665  15.37"
            ],
            "text/html": [
              "\n",
              "  <div id=\"df-d35da361-652b-4d07-b1f8-866663c67779\" class=\"colab-df-container\">\n",
              "    <div>\n",
              "<style scoped>\n",
              "    .dataframe tbody tr th:only-of-type {\n",
              "        vertical-align: middle;\n",
              "    }\n",
              "\n",
              "    .dataframe tbody tr th {\n",
              "        vertical-align: top;\n",
              "    }\n",
              "\n",
              "    .dataframe thead th {\n",
              "        text-align: right;\n",
              "    }\n",
              "</style>\n",
              "<table border=\"1\" class=\"dataframe\">\n",
              "  <thead>\n",
              "    <tr style=\"text-align: right;\">\n",
              "      <th></th>\n",
              "      <th>date</th>\n",
              "      <th>open</th>\n",
              "      <th>high</th>\n",
              "      <th>low</th>\n",
              "      <th>close</th>\n",
              "      <th>adj_close</th>\n",
              "      <th>volume</th>\n",
              "      <th>dvar</th>\n",
              "    </tr>\n",
              "  </thead>\n",
              "  <tbody>\n",
              "    <tr>\n",
              "      <th>0</th>\n",
              "      <td>2021-01-04</td>\n",
              "      <td>239.82</td>\n",
              "      <td>248.16</td>\n",
              "      <td>239.06</td>\n",
              "      <td>243.26</td>\n",
              "      <td>243.26</td>\n",
              "      <td>145.9146</td>\n",
              "      <td>9.10</td>\n",
              "    </tr>\n",
              "    <tr>\n",
              "      <th>1</th>\n",
              "      <td>2021-01-05</td>\n",
              "      <td>241.22</td>\n",
              "      <td>246.95</td>\n",
              "      <td>239.73</td>\n",
              "      <td>245.04</td>\n",
              "      <td>245.04</td>\n",
              "      <td>96.7356</td>\n",
              "      <td>7.22</td>\n",
              "    </tr>\n",
              "    <tr>\n",
              "      <th>2</th>\n",
              "      <td>2021-01-06</td>\n",
              "      <td>252.83</td>\n",
              "      <td>258.00</td>\n",
              "      <td>249.70</td>\n",
              "      <td>251.99</td>\n",
              "      <td>251.99</td>\n",
              "      <td>134.1000</td>\n",
              "      <td>8.30</td>\n",
              "    </tr>\n",
              "    <tr>\n",
              "      <th>3</th>\n",
              "      <td>2021-01-07</td>\n",
              "      <td>259.21</td>\n",
              "      <td>272.33</td>\n",
              "      <td>258.40</td>\n",
              "      <td>272.01</td>\n",
              "      <td>272.01</td>\n",
              "      <td>154.4967</td>\n",
              "      <td>13.93</td>\n",
              "    </tr>\n",
              "    <tr>\n",
              "      <th>4</th>\n",
              "      <td>2021-01-08</td>\n",
              "      <td>285.33</td>\n",
              "      <td>294.83</td>\n",
              "      <td>279.46</td>\n",
              "      <td>293.34</td>\n",
              "      <td>293.34</td>\n",
              "      <td>225.1665</td>\n",
              "      <td>15.37</td>\n",
              "    </tr>\n",
              "  </tbody>\n",
              "</table>\n",
              "</div>\n",
              "    <div class=\"colab-df-buttons\">\n",
              "\n",
              "  <div class=\"colab-df-container\">\n",
              "    <button class=\"colab-df-convert\" onclick=\"convertToInteractive('df-d35da361-652b-4d07-b1f8-866663c67779')\"\n",
              "            title=\"Convert this dataframe to an interactive table.\"\n",
              "            style=\"display:none;\">\n",
              "\n",
              "  <svg xmlns=\"http://www.w3.org/2000/svg\" height=\"24px\" viewBox=\"0 -960 960 960\">\n",
              "    <path d=\"M120-120v-720h720v720H120Zm60-500h600v-160H180v160Zm220 220h160v-160H400v160Zm0 220h160v-160H400v160ZM180-400h160v-160H180v160Zm440 0h160v-160H620v160ZM180-180h160v-160H180v160Zm440 0h160v-160H620v160Z\"/>\n",
              "  </svg>\n",
              "    </button>\n",
              "\n",
              "  <style>\n",
              "    .colab-df-container {\n",
              "      display:flex;\n",
              "      gap: 12px;\n",
              "    }\n",
              "\n",
              "    .colab-df-convert {\n",
              "      background-color: #E8F0FE;\n",
              "      border: none;\n",
              "      border-radius: 50%;\n",
              "      cursor: pointer;\n",
              "      display: none;\n",
              "      fill: #1967D2;\n",
              "      height: 32px;\n",
              "      padding: 0 0 0 0;\n",
              "      width: 32px;\n",
              "    }\n",
              "\n",
              "    .colab-df-convert:hover {\n",
              "      background-color: #E2EBFA;\n",
              "      box-shadow: 0px 1px 2px rgba(60, 64, 67, 0.3), 0px 1px 3px 1px rgba(60, 64, 67, 0.15);\n",
              "      fill: #174EA6;\n",
              "    }\n",
              "\n",
              "    .colab-df-buttons div {\n",
              "      margin-bottom: 4px;\n",
              "    }\n",
              "\n",
              "    [theme=dark] .colab-df-convert {\n",
              "      background-color: #3B4455;\n",
              "      fill: #D2E3FC;\n",
              "    }\n",
              "\n",
              "    [theme=dark] .colab-df-convert:hover {\n",
              "      background-color: #434B5C;\n",
              "      box-shadow: 0px 1px 3px 1px rgba(0, 0, 0, 0.15);\n",
              "      filter: drop-shadow(0px 1px 2px rgba(0, 0, 0, 0.3));\n",
              "      fill: #FFFFFF;\n",
              "    }\n",
              "  </style>\n",
              "\n",
              "    <script>\n",
              "      const buttonEl =\n",
              "        document.querySelector('#df-d35da361-652b-4d07-b1f8-866663c67779 button.colab-df-convert');\n",
              "      buttonEl.style.display =\n",
              "        google.colab.kernel.accessAllowed ? 'block' : 'none';\n",
              "\n",
              "      async function convertToInteractive(key) {\n",
              "        const element = document.querySelector('#df-d35da361-652b-4d07-b1f8-866663c67779');\n",
              "        const dataTable =\n",
              "          await google.colab.kernel.invokeFunction('convertToInteractive',\n",
              "                                                    [key], {});\n",
              "        if (!dataTable) return;\n",
              "\n",
              "        const docLinkHtml = 'Like what you see? Visit the ' +\n",
              "          '<a target=\"_blank\" href=https://colab.research.google.com/notebooks/data_table.ipynb>data table notebook</a>'\n",
              "          + ' to learn more about interactive tables.';\n",
              "        element.innerHTML = '';\n",
              "        dataTable['output_type'] = 'display_data';\n",
              "        await google.colab.output.renderOutput(dataTable, element);\n",
              "        const docLink = document.createElement('div');\n",
              "        docLink.innerHTML = docLinkHtml;\n",
              "        element.appendChild(docLink);\n",
              "      }\n",
              "    </script>\n",
              "  </div>\n",
              "\n",
              "\n",
              "    <div id=\"df-db17c9b6-2d78-4d83-8dd1-19827ef91444\">\n",
              "      <button class=\"colab-df-quickchart\" onclick=\"quickchart('df-db17c9b6-2d78-4d83-8dd1-19827ef91444')\"\n",
              "                title=\"Suggest charts\"\n",
              "                style=\"display:none;\">\n",
              "\n",
              "<svg xmlns=\"http://www.w3.org/2000/svg\" height=\"24px\"viewBox=\"0 0 24 24\"\n",
              "     width=\"24px\">\n",
              "    <g>\n",
              "        <path d=\"M19 3H5c-1.1 0-2 .9-2 2v14c0 1.1.9 2 2 2h14c1.1 0 2-.9 2-2V5c0-1.1-.9-2-2-2zM9 17H7v-7h2v7zm4 0h-2V7h2v10zm4 0h-2v-4h2v4z\"/>\n",
              "    </g>\n",
              "</svg>\n",
              "      </button>\n",
              "\n",
              "<style>\n",
              "  .colab-df-quickchart {\n",
              "      --bg-color: #E8F0FE;\n",
              "      --fill-color: #1967D2;\n",
              "      --hover-bg-color: #E2EBFA;\n",
              "      --hover-fill-color: #174EA6;\n",
              "      --disabled-fill-color: #AAA;\n",
              "      --disabled-bg-color: #DDD;\n",
              "  }\n",
              "\n",
              "  [theme=dark] .colab-df-quickchart {\n",
              "      --bg-color: #3B4455;\n",
              "      --fill-color: #D2E3FC;\n",
              "      --hover-bg-color: #434B5C;\n",
              "      --hover-fill-color: #FFFFFF;\n",
              "      --disabled-bg-color: #3B4455;\n",
              "      --disabled-fill-color: #666;\n",
              "  }\n",
              "\n",
              "  .colab-df-quickchart {\n",
              "    background-color: var(--bg-color);\n",
              "    border: none;\n",
              "    border-radius: 50%;\n",
              "    cursor: pointer;\n",
              "    display: none;\n",
              "    fill: var(--fill-color);\n",
              "    height: 32px;\n",
              "    padding: 0;\n",
              "    width: 32px;\n",
              "  }\n",
              "\n",
              "  .colab-df-quickchart:hover {\n",
              "    background-color: var(--hover-bg-color);\n",
              "    box-shadow: 0 1px 2px rgba(60, 64, 67, 0.3), 0 1px 3px 1px rgba(60, 64, 67, 0.15);\n",
              "    fill: var(--button-hover-fill-color);\n",
              "  }\n",
              "\n",
              "  .colab-df-quickchart-complete:disabled,\n",
              "  .colab-df-quickchart-complete:disabled:hover {\n",
              "    background-color: var(--disabled-bg-color);\n",
              "    fill: var(--disabled-fill-color);\n",
              "    box-shadow: none;\n",
              "  }\n",
              "\n",
              "  .colab-df-spinner {\n",
              "    border: 2px solid var(--fill-color);\n",
              "    border-color: transparent;\n",
              "    border-bottom-color: var(--fill-color);\n",
              "    animation:\n",
              "      spin 1s steps(1) infinite;\n",
              "  }\n",
              "\n",
              "  @keyframes spin {\n",
              "    0% {\n",
              "      border-color: transparent;\n",
              "      border-bottom-color: var(--fill-color);\n",
              "      border-left-color: var(--fill-color);\n",
              "    }\n",
              "    20% {\n",
              "      border-color: transparent;\n",
              "      border-left-color: var(--fill-color);\n",
              "      border-top-color: var(--fill-color);\n",
              "    }\n",
              "    30% {\n",
              "      border-color: transparent;\n",
              "      border-left-color: var(--fill-color);\n",
              "      border-top-color: var(--fill-color);\n",
              "      border-right-color: var(--fill-color);\n",
              "    }\n",
              "    40% {\n",
              "      border-color: transparent;\n",
              "      border-right-color: var(--fill-color);\n",
              "      border-top-color: var(--fill-color);\n",
              "    }\n",
              "    60% {\n",
              "      border-color: transparent;\n",
              "      border-right-color: var(--fill-color);\n",
              "    }\n",
              "    80% {\n",
              "      border-color: transparent;\n",
              "      border-right-color: var(--fill-color);\n",
              "      border-bottom-color: var(--fill-color);\n",
              "    }\n",
              "    90% {\n",
              "      border-color: transparent;\n",
              "      border-bottom-color: var(--fill-color);\n",
              "    }\n",
              "  }\n",
              "</style>\n",
              "\n",
              "      <script>\n",
              "        async function quickchart(key) {\n",
              "          const quickchartButtonEl =\n",
              "            document.querySelector('#' + key + ' button');\n",
              "          quickchartButtonEl.disabled = true;  // To prevent multiple clicks.\n",
              "          quickchartButtonEl.classList.add('colab-df-spinner');\n",
              "          try {\n",
              "            const charts = await google.colab.kernel.invokeFunction(\n",
              "                'suggestCharts', [key], {});\n",
              "          } catch (error) {\n",
              "            console.error('Error during call to suggestCharts:', error);\n",
              "          }\n",
              "          quickchartButtonEl.classList.remove('colab-df-spinner');\n",
              "          quickchartButtonEl.classList.add('colab-df-quickchart-complete');\n",
              "        }\n",
              "        (() => {\n",
              "          let quickchartButtonEl =\n",
              "            document.querySelector('#df-db17c9b6-2d78-4d83-8dd1-19827ef91444 button');\n",
              "          quickchartButtonEl.style.display =\n",
              "            google.colab.kernel.accessAllowed ? 'block' : 'none';\n",
              "        })();\n",
              "      </script>\n",
              "    </div>\n",
              "\n",
              "    </div>\n",
              "  </div>\n"
            ],
            "application/vnd.google.colaboratory.intrinsic+json": {
              "type": "dataframe",
              "variable_name": "df",
              "summary": "{\n  \"name\": \"df\",\n  \"rows\": 1004,\n  \"fields\": [\n    {\n      \"column\": \"date\",\n      \"properties\": {\n        \"dtype\": \"object\",\n        \"num_unique_values\": 1004,\n        \"samples\": [\n          \"2024-09-10\",\n          \"2023-07-07\",\n          \"2023-09-20\"\n        ],\n        \"semantic_type\": \"\",\n        \"description\": \"\"\n      }\n    },\n    {\n      \"column\": \"open\",\n      \"properties\": {\n        \"dtype\": \"number\",\n        \"std\": 60.13735018338771,\n        \"min\": 103.0,\n        \"max\": 475.9,\n        \"num_unique_values\": 967,\n        \"samples\": [\n          366.21,\n          197.08,\n          176.06\n        ],\n        \"semantic_type\": \"\",\n        \"description\": \"\"\n      }\n    },\n    {\n      \"column\": \"high\",\n      \"properties\": {\n        \"dtype\": \"number\",\n        \"std\": 61.63402268262378,\n        \"min\": 111.75,\n        \"max\": 488.54,\n        \"num_unique_values\": 966,\n        \"samples\": [\n          372.33,\n          185.2,\n          186.0\n        ],\n        \"semantic_type\": \"\",\n        \"description\": \"\"\n      }\n    },\n    {\n      \"column\": \"low\",\n      \"properties\": {\n        \"dtype\": \"number\",\n        \"std\": 58.29715372561471,\n        \"min\": 101.81,\n        \"max\": 457.51,\n        \"num_unique_values\": 975,\n        \"samples\": [\n          285.79,\n          171.8,\n          246.12\n        ],\n        \"semantic_type\": \"\",\n        \"description\": \"\"\n      }\n    },\n    {\n      \"column\": \"close\",\n      \"properties\": {\n        \"dtype\": \"number\",\n        \"std\": 60.01509131795479,\n        \"min\": 108.1,\n        \"max\": 479.86,\n        \"num_unique_values\": 975,\n        \"samples\": [\n          341.62,\n          179.83,\n          243.39\n        ],\n        \"semantic_type\": \"\",\n        \"description\": \"\"\n      }\n    },\n    {\n      \"column\": \"adj_close\",\n      \"properties\": {\n        \"dtype\": \"number\",\n        \"std\": 60.01509131795479,\n        \"min\": 108.1,\n        \"max\": 479.86,\n        \"num_unique_values\": 975,\n        \"samples\": [\n          341.62,\n          179.83,\n          243.39\n        ],\n        \"semantic_type\": \"\",\n        \"description\": \"\"\n      }\n    },\n    {\n      \"column\": \"volume\",\n      \"properties\": {\n        \"dtype\": \"number\",\n        \"std\": 40.23675329915125,\n        \"min\": 29.4018,\n        \"max\": 306.5906,\n        \"num_unique_values\": 1004,\n        \"samples\": [\n          78.8911,\n          113.602,\n          122.5146\n        ],\n        \"semantic_type\": \"\",\n        \"description\": \"\"\n      }\n    },\n    {\n      \"column\": \"dvar\",\n      \"properties\": {\n        \"dtype\": \"number\",\n        \"std\": 6.231985758072651,\n        \"min\": 2.3000000000000114,\n        \"max\": 61.53000000000003,\n        \"num_unique_values\": 852,\n        \"samples\": [\n          3.8500000000000227,\n          14.909999999999997,\n          31.170000000000016\n        ],\n        \"semantic_type\": \"\",\n        \"description\": \"\"\n      }\n    }\n  ]\n}"
            }
          },
          "metadata": {},
          "execution_count": 14
        }
      ]
    },
    {
      "cell_type": "markdown",
      "source": [
        "\n",
        "The line plot and the histogram are obtained as for the trading volume. The distribution of the trading volume is more skewed, with a longer right tail.\n"
      ],
      "metadata": {
        "id": "H5U60T41XKdA"
      }
    },
    {
      "cell_type": "code",
      "source": [
        "df['dvar'].plot(figsize=(8,5), title='Figure 4. Daily price variation (USD)',\n",
        "    color='black', linewidth=1);"
      ],
      "metadata": {
        "id": "zXPqX86LXOA-",
        "colab": {
          "base_uri": "https://localhost:8080/",
          "height": 468
        },
        "outputId": "c87dd1d6-9677-4158-c549-465386c9007b"
      },
      "execution_count": 15,
      "outputs": [
        {
          "output_type": "display_data",
          "data": {
            "text/plain": [
              "<Figure size 800x500 with 1 Axes>"
            ],
            "image/png": "[encoded data removed]"
          },
          "metadata": {}
        }
      ]
    },
    {
      "cell_type": "code",
      "source": [
        "df['dvar'].plot.hist(figsize=(7,5),\n",
        "    title='Figure 5. Daily price variation (alternative visualization)',\n",
        "    color='gray', edgecolor='white', xlabel='Daily price variation (USD)');"
      ],
      "metadata": {
        "id": "lwC25ThGXTLs",
        "colab": {
          "base_uri": "https://localhost:8080/",
          "height": 487
        },
        "outputId": "b75a60fd-acc4-4ccc-b909-e6ad642af6c3"
      },
      "execution_count": 16,
      "outputs": [
        {
          "output_type": "display_data",
          "data": {
            "text/plain": [
              "<Figure size 700x500 with 1 Axes>"
            ],
            "image/png": "[encoded data removed]"
          },
          "metadata": {}
        }
      ]
    },
    {
      "cell_type": "markdown",
      "source": [
        "## Q5. Association between daily price variation and trading volume"
      ],
      "metadata": {
        "id": "SdM7BUNIXY8G"
      }
    },
    {
      "cell_type": "markdown",
      "source": [
        "Common wisdom tells us that price will show more intraday variation the days in which there is more trading activity, and less intraday variation with low activity. Though comparing line plots may give us an idea of this type of association, it is better to display together the two series in a **scatter plot**. We can get a scatter plot in Pandas with the method `.plot.scatter()`."
      ],
      "metadata": {
        "id": "9Ak0HN44YBZJ"
      }
    },
    {
      "cell_type": "code",
      "source": [
        "df.plot.scatter(x='volume', y='dvar',\n",
        "    title='Figure 6. Daily variation vs volume', figsize=(5,5), color='gray',\n",
        "    xlabel='Trading volume (million shares)', ylabel='Daily price variation (USD)');"
      ],
      "metadata": {
        "id": "6enHn6jOYDpO",
        "colab": {
          "base_uri": "https://localhost:8080/",
          "height": 487
        },
        "outputId": "254935e3-9f12-42c3-e185-db977820544c"
      },
      "execution_count": 17,
      "outputs": [
        {
          "output_type": "display_data",
          "data": {
            "text/plain": [
              "<Figure size 500x500 with 1 Axes>"
            ],
            "image/png": "[encoded data removed]"
          },
          "metadata": {}
        }
      ]
    },
    {
      "cell_type": "markdown",
      "source": [
        "The scatter plot somewhat confirms our guess of a positive association between the trading volume and the daily variation, though the interpretation of plots is always subjective. To be objective, statisticians use the correlation to evaluate the strength of the association. More specifically, the correlation tells us the extent to which one series can be represented as a linear expression of the other series. The correlation can be positive or negative. A strong correlation is one which is close to 1 (or -1), and a weak correlation one which is close to 0.\n",
        "\n",
        "In Pandas, correlations can be calculated with the method `.corr()`. In this case, though the correlation is weak, it confirms our guess."
      ],
      "metadata": {
        "id": "kZxkd1piYHPL"
      }
    },
    {
      "cell_type": "code",
      "source": [
        "df['volume'].corr(df['dvar'])"
      ],
      "metadata": {
        "id": "Fa_O4ZXTYNKe",
        "colab": {
          "base_uri": "https://localhost:8080/"
        },
        "outputId": "9779d162-deae-47f7-e7f9-2ce6579528d1"
      },
      "execution_count": 18,
      "outputs": [
        {
          "output_type": "execute_result",
          "data": {
            "text/plain": [
              "np.float64(0.2570437411567959)"
            ]
          },
          "metadata": {},
          "execution_count": 18
        }
      ]
    },
    {
      "cell_type": "markdown",
      "source": [
        "You may wonder why do you need so many decimals for a correlation. Indeed, correlations are better expressed with two (maybe three) decimals. You can get this with the method `.round()`.\n"
      ],
      "metadata": {
        "id": "zpLkfRWsYP-o"
      }
    },
    {
      "cell_type": "code",
      "source": [
        "df['volume'].corr(df['dvar']).round(2)"
      ],
      "metadata": {
        "id": "-LVq1R_tYuZ4",
        "colab": {
          "base_uri": "https://localhost:8080/"
        },
        "outputId": "f76fdab8-44bf-4048-e3bb-782a25ab7778"
      },
      "execution_count": 19,
      "outputs": [
        {
          "output_type": "execute_result",
          "data": {
            "text/plain": [
              "np.float64(0.26)"
            ]
          },
          "metadata": {},
          "execution_count": 19
        }
      ]
    },
    {
      "cell_type": "markdown",
      "source": [
        "*Note*. Don't pay attention to this numbers showing up as `np.float`. If you use the function `print()` on them, this will disappear."
      ],
      "metadata": {
        "id": "oSmjwvA17_nV"
      }
    },
    {
      "cell_type": "markdown",
      "source": [
        "## Homework"
      ],
      "metadata": {
        "id": "NA2ukAJtYu13"
      }
    },
    {
      "cell_type": "markdown",
      "source": [
        "1. The **daily return** is the percentage change in the price with respect to the preceding trading day. If $p(t)$ is the price on day $t$, the corresponding return would be\n",
        "$$r(t) =\\frac{p(t) - p(t-1)}{p(t-1)}=\\frac{p(t)}{p(t-1)}-1,$$\n",
        "which can be multiplied by 100 to get percentage scale. Use the Pandas method `.pct_change()` to calculate the daily returns of the opening price. How is the distribution of the daily return of the opening price? Is there an association between the daily return and the trading volume?\n",
        "\n",
        "2. Instead of calculating the daily return for the opening price as in the preceding exercise, which is the usual practice, calculate a daily return as the difference of the closing price minus the opening price (of the same day) as a percentage of the opening price. Perform a similar analysis and compare the results.\n",
        "\n",
        "3. The opening price on a particular day is not the same as the closing price the day before. As a rule, is it higher or lower? Or there is no clear rule? How big can be the difference of the opening price tomorrow minus the closing price today, as a percentage of the closing price today?\n"
      ],
      "metadata": {
        "id": "CCTbxMzzYz1A"
      }
    }
  ]
}