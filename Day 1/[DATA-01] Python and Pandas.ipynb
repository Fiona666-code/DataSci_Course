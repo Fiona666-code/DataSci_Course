{
  "nbformat": 4,
  "nbformat_minor": 0,
  "metadata": {
    "colab": {
      "provenance": [],
      "authorship_tag": "ABX9TyMV98q6QZ3dIQHLv/q9Jcjw",
      "include_colab_link": true
    },
    "kernelspec": {
      "name": "python3",
      "display_name": "Python 3"
    },
    "language_info": {
      "name": "python"
    }
  },
  "cells": [
    {
      "cell_type": "markdown",
      "metadata": {
        "id": "view-in-github",
        "colab_type": "text"
      },
      "source": [
        "<a href=\"https://colab.research.google.com/github/MCanela-1954/DataSci_Course/blob/main/%5BDATA-01%5D%20Python%20and%20Pandas.ipynb\" target=\"_parent\"><img src=\"https://colab.research.google.com/assets/colab-badge.svg\" alt=\"Open In Colab\"/></a>"
      ]
    },
    {
      "cell_type": "markdown",
      "source": [
        "# [DATA-01] Python and Pandas"
      ],
      "metadata": {
        "id": "6Z9XysR_2gnp"
      }
    },
    {
      "cell_type": "markdown",
      "source": [
        "## What is Python?"
      ],
      "metadata": {
        "id": "J2DYQMpn2nte"
      }
    },
    {
      "cell_type": "markdown",
      "source": [
        "**Python** is a programming language, born in 1991. The latest stable version (when this is being written) is Python 3.14. As a programming language, Python can be used by a programmer to write a program that performs a task. This program can be later executed many times without being modified. But you can use Python in other ways. For instance, to examine the variation of the stock price of a specific company, or the structure of the vacation rental market in a specific region.\n",
        "\n",
        "The basic tool is the **Python interactive interpreter**. It can be imagined as a translator: we speak Python and the interpreter translates our commands to **machine language**. We can call several instances of the interpreter, or **kernels**, and have them running simultaneously. To send our commands to the kernel and (eventually) get results and other messages from the kernel, we use an app as an interface. In the examples of this course, the interface is assumed to be a **notebook**, but everything can be easily transported to a different interface, *e.g*. to a **console**."
      ],
      "metadata": {
        "id": "3YiKes8e2tzT"
      }
    },
    {
      "cell_type": "markdown",
      "source": [
        "## Python modules and packages"
      ],
      "metadata": {
        "id": "9Pc_FzpN2x6v"
      }
    },
    {
      "cell_type": "markdown",
      "source": [
        "Many additional resources have been added to Python in the form of **modules**. A module is just a text file containing Python code. Modules are grouped in **libraries**. The **Python Standard Library**, distributed with Python, contains **built-in modules** providing standardized solutions for many problems that occur in everyday programming. For instance, the module `math` provides mathematical functions, while the module `datetime` provides functions for manipulating dates and times.\n",
        "\n",
        "Other libraries are typically called **packages**, because their elements are packed according to some specific rules which allow you to install and call them together. Python can be extended by more than 500,000 packages. Some big packages like scikit-learn (used in machine learning) have **subpackages**.\n",
        "\n",
        "Since the basic Python toolkit (without any module) is quite limited, you will need to **import** additional resources for practically everything. Once a module has been imported, all its functions are available. Alternatively, you can import a single function from a module. Resources are imported just for the current kernel. You can only import from packages which are already **installed** in your computer.\n",
        "\n",
        "Almost everything in the Python world is open-source. In particular, Python packages are contributed by various agents, such as university professors, freelance programmers, or industry giant companies like Google. This leads to a dynamic ecosystem, where you may find overlapping, dependencies and multiple versions."
      ],
      "metadata": {
        "id": "7VjG7eZW29ND"
      }
    },
    {
      "cell_type": "markdown",
      "source": [
        "## Python distributions"
      ],
      "metadata": {
        "id": "tw2vD3Ad3AuZ"
      }
    },
    {
      "cell_type": "markdown",
      "source": [
        "A **Python distribution** is a software bundle, containing, at least, a Python interpreter and the corresponding version of the standard library. It also includes a collection of packages and one or more package managers for installing, uninstalling or updating packages. All distributions have a **package manager** called `pip`, and some distributions have a specific package manager. A few details about one of the top popular Python distributions come in the next section.\n",
        "\n",
        "One option for working with Python is to start a Python kernel directly in a **shell** application associated to the operating system of your computer. A shell app is called **Terminal** in Mac/Linux computers and **Prompt** in Windows computers. For this approach to work, the shell app has to find the Python files. This is automatic when the folder where the Python distribution is in the **path** of that shell. In the contrary, you have to know where to find it.\n",
        "\n",
        "If you are just starting with Python, you will prefer a friendlier approach. Python distributions provide various interfaces to the Python interpreter. All include a **command line interface** (CLI), which may be a shell-like application or an **integrated development environment** (IDE). A Python IDE provides a Python-aware code editor integrated with the ability to run code from that editor."
      ],
      "metadata": {
        "id": "BZJ48ml13KJJ"
      }
    },
    {
      "cell_type": "markdown",
      "source": [
        "## The Anaconda distribution"
      ],
      "metadata": {
        "id": "yrcQM-BO3Mx0"
      }
    },
    {
      "cell_type": "markdown",
      "source": [
        "In the data science community, **Anaconda** (`anaconda.com`) is the favorite distribution. The current Anaconda distribution comes with Python 3.12. Besides `pip`, Anaconda has a specific package manager, called `conda`. You may need `conda` for more advanced work, because it reviews the packages that are already installed in our computer, keeping track of the dependencies, and solving version conflicts between packages. On the downside, `conda` is much slower than `pip`.\n",
        "\n",
        "After downloading and installing Anaconda, you can start your Python experience with the **Anaconda Navigator**, which opens in the browser and allows you to choose among different interfaces to the Python interpreter. First, you have **Jupyter Qt Console**, which is a shell-like app with some extra features. Jupyter (Julia/Python/R) is a new name for an older project called **IPython** (Interactive Python). IPython's contribution was the IPython shell, which added some features to the mere Python language. Qt Console is the result of adding a **graphical user interface** (GUI), with drop-down menus, mouse-clicking, etc, to the IPython shell, by means of a toolkit called Qt.\n",
        "\n",
        "Jupyter provides an alternative approach, based on the **notebook** concept. A notebook is a document where you can combine input, output and ordinary text. A notebook is stored in a file with extension `ipynb` (IPython notebook). In the notebook arena, **Jupyter Notebook** is the leading choice. Notebooks are multilingual, that is, they can be used, not only with Python, but also with other languages like R. Most data scientists prefer the console for developing their code, but use notebooks for diffusion, specially for posting their work on platforms like **GitHub**.\n",
        "\n",
        "Besides the Jupyter apps, Anaconda also provides a Python IDE called **Spyder**, where you can manage together a console and a text editor for your code. If you have previous experience with IDE's, for instance from working with R in RStudio, you may prefer Spyder to Qt Console.\n",
        "\n",
        "Once Anaconda is installed, you can bypass the navigator by calling your preferred interface from a shell. To start Qt Console, enter `jupyter qtconsole`. To get access to the notebooks in the default browser (*e.g*. Google Chrome), enter `jupyter notebook`. To start Spyder, enter `spyder`.\n",
        "\n",
        "*Note*. Use *Anaconda Prompt* in Windows, instead of the standard Windows prompt, whose path does not contain the Anaconda apps."
      ],
      "metadata": {
        "id": "a8AKpFJ43QVc"
      }
    },
    {
      "cell_type": "markdown",
      "source": [
        "## Colab notebooks"
      ],
      "metadata": {
        "id": "Og-Q6Qvi3u16"
      }
    },
    {
      "cell_type": "markdown",
      "source": [
        "**Colaboratory** is a Google app which allows you to run a remote Python kernel in a notebook displayed in a browser (not necessarily Google Chrome), with some advantages. It does not require installation nor configuration and it allows you an easy way to share content. In Colaboratory, you work with documents called **Colab notebooks**. Though they are not exactly the same, Colab notebooks are pretty similar to Jupyter notebooks, and they are usually stored in Google Drive as files with extension `ipynb`.\n",
        "\n",
        "You can access a Colab notebook from any deviced connected to Internet, such as an IPAD. The only thing you need to start working with Colab notebooks is a Google account, meaning a `gmail.com` address and its password. You will also have to install Colaboratory in your drive. To do this, open the *MyDrive* page, click on the *Settings* button, select *Settings >> Manage apps* button and click on *Connect more apps*."
      ],
      "metadata": {
        "id": "sSfEr_Dc3xBg"
      }
    },
    {
      "cell_type": "markdown",
      "source": [
        "## Typing in a notebook"
      ],
      "metadata": {
        "id": "WNiAMRU-30si"
      }
    },
    {
      "cell_type": "markdown",
      "source": [
        "In these notes, we are assumed to be working on a notebook. Neverthless, most of the comments are valid for a console.\n",
        "\n",
        "The notebook is a sequence of **cells**. There two type of cells, the Markdown cells and the code cells. In the **Markdown cells**, you write comments, while in the **code cells** you write the Python commands. The content of each code cell makes a single **input**, either Markdown (Markdown is a language for formatting text in a webpage) or Python.\n",
        "\n",
        "When a cell is selected, you can enter that cell to edit it by pressing *Return*. Conversely, when you are inside the cell, you go out by pressing *Esc*. When you are inside the cell, pressing *Return* starts a new line *within the same cell*. In both situations, inside and outside, with *Shift+Return*, you execute the input, passing to the following cell.\n",
        "\n",
        "The input in a code cell can get the corresponding **output**, an **error message** or no answer at all. Error messages are typically long and unfriendly. A simple example follows. Note the white space in the input, around the *plus* sign (`+`), which is ignored by the Python kernel, but improves the **readability** of our code."
      ],
      "metadata": {
        "id": "x34e2wxv7v_w"
      }
    },
    {
      "cell_type": "code",
      "source": [
        "2 + 2"
      ],
      "metadata": {
        "id": "gnKYxHEX7zIS"
      },
      "execution_count": null,
      "outputs": []
    },
    {
      "cell_type": "markdown",
      "source": [
        "So, if you enter `2 + 2`, the output will be the result of this calculation. But, if you want to store this result for later use (in the same session), you will enter it with a name, as follows:"
      ],
      "metadata": {
        "id": "ZO20zEeU71gJ"
      }
    },
    {
      "cell_type": "code",
      "source": [
        "a = 2 + 2"
      ],
      "metadata": {
        "id": "xr_Zj72D75T7"
      },
      "execution_count": null,
      "outputs": []
    },
    {
      "cell_type": "markdown",
      "source": [
        "This creates the **variable** `a`. Note that the value of `2 + 2` is not outputted now. But you can call it:"
      ],
      "metadata": {
        "id": "J_oHtLsb77VR"
      }
    },
    {
      "cell_type": "code",
      "source": [
        "a"
      ],
      "metadata": {
        "id": "vN423rLt797a"
      },
      "execution_count": null,
      "outputs": []
    },
    {
      "cell_type": "markdown",
      "source": [
        "In Pyhton, when you assign a value to a variable which has already been created, the previous assignment is forgotten:"
      ],
      "metadata": {
        "id": "lm1KTg0f7_Kf"
      }
    },
    {
      "cell_type": "code",
      "source": [
        "a = 7 - 2"
      ],
      "metadata": {
        "id": "g7XTiquP8CLW"
      },
      "execution_count": null,
      "outputs": []
    },
    {
      "cell_type": "code",
      "source": [
        "a"
      ],
      "metadata": {
        "id": "iv7OTStd8D_c"
      },
      "execution_count": null,
      "outputs": []
    },
    {
      "cell_type": "markdown",
      "source": [
        "You can so input several code lines at once. In that case, the output will be the output for the last line of the input. An example follows."
      ],
      "metadata": {
        "id": "qrV1bkL-8Gfi"
      }
    },
    {
      "cell_type": "code",
      "source": [
        "b = 2 * 3\n",
        "b - 1\n",
        "b**2"
      ],
      "metadata": {
        "id": "_KQWJPH58MaS"
      },
      "execution_count": null,
      "outputs": []
    },
    {
      "cell_type": "markdown",
      "source": [
        "*Note*. You would probably have written `b^2` for the square of 2, but the caret symbol (`^`) plays a different role in Python."
      ],
      "metadata": {
        "id": "YQy5SnQ38QV3"
      }
    },
    {
      "cell_type": "markdown",
      "source": [
        "## Python packages"
      ],
      "metadata": {
        "id": "HJ5Ni4428UsF"
      }
    },
    {
      "cell_type": "markdown",
      "source": [
        "Additional Python resources come in **packages**. For instance, suppose that you try a bit of math, calculating the square root of 2. You will then **import** the package `math`, whose resources include the square root and many other mathematical functions. Once the package has been imported, all its functions are available, so you can call the function as `math.sqrt()`. This notation indicates that `sqrt()` is a function of the module `math`.\n",
        "\n",
        "So, the square root calculation is carried as:"
      ],
      "metadata": {
        "id": "rB1wcTzA8eDs"
      }
    },
    {
      "cell_type": "code",
      "source": [
        "import math\n",
        "math.sqrt(2)"
      ],
      "metadata": {
        "id": "QIao8C_K8h5c"
      },
      "execution_count": null,
      "outputs": []
    },
    {
      "cell_type": "markdown",
      "source": [
        "Alternatively, you can import only the functions that you plan to use:"
      ],
      "metadata": {
        "id": "gHQ5vkOc8kzN"
      }
    },
    {
      "cell_type": "code",
      "source": [
        "from math import sqrt\n",
        "sqrt(2)"
      ],
      "metadata": {
        "id": "HZNhbPP-8t1u"
      },
      "execution_count": null,
      "outputs": []
    },
    {
      "cell_type": "markdown",
      "source": [
        "## Data types"
      ],
      "metadata": {
        "id": "KCw42i2f85rC"
      }
    },
    {
      "cell_type": "markdown",
      "source": [
        "As in other languages, data can have different **data types** in Python. The data type can be learned with the function `type()`. Let us start with the numeric types, which are three: **integer** (`int`), **floating-point** (`float`) and **complex** (`complex`). In addition, we have **Booleans** (`bool`), whjci are a subtype on integers.\n",
        "\n",
        " Note that, in Python, integers are not, as in the mathematics textbook, a subset of the real numbers, but a different type:"
      ],
      "metadata": {
        "id": "fn-4_Xg288-a"
      }
    },
    {
      "cell_type": "code",
      "source": [
        "type(2)"
      ],
      "metadata": {
        "id": "kbTPXWPs9JQS"
      },
      "execution_count": null,
      "outputs": []
    },
    {
      "cell_type": "code",
      "source": [
        "type(2.0)"
      ],
      "metadata": {
        "id": "KGhnHzHG9Lyk"
      },
      "execution_count": null,
      "outputs": []
    },
    {
      "cell_type": "markdown",
      "source": [
        "The value of a Boolean variable, is either `True` or `False`:"
      ],
      "metadata": {
        "id": "ZruvRQZM9cgL"
      }
    },
    {
      "cell_type": "code",
      "source": [
        "d = (5 < a)\n",
        "d"
      ],
      "metadata": {
        "id": "gjRVhYoi9ec8"
      },
      "execution_count": null,
      "outputs": []
    },
    {
      "cell_type": "code",
      "source": [
        "type(d)"
      ],
      "metadata": {
        "id": "Qq46BfVz9hYN"
      },
      "execution_count": null,
      "outputs": []
    },
    {
      "cell_type": "markdown",
      "source": [
        "When you enter an expression involving a comparison such as `5 < a`, the Python interpreter evaluates it, returning either `True` or `False`.  Here, we have defined a variable by means of such an expression, so we got a Boolean variable. Warning: as a comparison operator, equality is denoted by two equal signs. This may surprise you."
      ],
      "metadata": {
        "id": "xX3MSrPY9jfF"
      }
    },
    {
      "cell_type": "code",
      "source": [
        "a == 4"
      ],
      "metadata": {
        "id": "nWSSSht_9l-o"
      },
      "execution_count": null,
      "outputs": []
    },
    {
      "cell_type": "markdown",
      "source": [
        "Boolean variables can be converted to `int` and `float` type by the functions mentioned above, but also by a mathematical operator:"
      ],
      "metadata": {
        "id": "q10v3xKA9nve"
      }
    },
    {
      "cell_type": "code",
      "source": [
        "math.sqrt(d)"
      ],
      "metadata": {
        "id": "C4tfTfuq9qXt"
      },
      "execution_count": null,
      "outputs": []
    },
    {
      "cell_type": "code",
      "source": [
        "1 - d"
      ],
      "metadata": {
        "id": "rzPU-dCS9sSL"
      },
      "execution_count": null,
      "outputs": []
    },
    {
      "cell_type": "markdown",
      "source": [
        "Besides numbers, we can also manage **strings** with type `str`:"
      ],
      "metadata": {
        "id": "qKHcjTDYLfRq"
      }
    },
    {
      "cell_type": "code",
      "source": [
        "c = 'Lamine Yamal'\n",
        "type(c)"
      ],
      "metadata": {
        "id": "4j7NhopFLiRz"
      },
      "execution_count": null,
      "outputs": []
    },
    {
      "cell_type": "markdown",
      "source": [
        "The quote marks indicate type `str`. You can use single or double quotes, but take care of using the same on both sides of the string."
      ],
      "metadata": {
        "id": "1qSdmrXZLnUo"
      }
    },
    {
      "cell_type": "markdown",
      "source": [
        "##  Functions"
      ],
      "metadata": {
        "id": "_8usRE3JSHAS"
      }
    },
    {
      "cell_type": "markdown",
      "source": [
        "A **function** takes a collection of **arguments** and performs an action. Let me present a couple of examples of value-returning functions. They are easily distinguished from other functions, because the definition's last line is a `return` clause.\n",
        "\n",
        "A first example follows. Note the **indentation** after the colon, which is created automatically by the notebook."
      ],
      "metadata": {
        "id": "pjrCyySMSJZV"
      }
    },
    {
      "cell_type": "code",
      "source": [
        "def f(x):\n",
        "    y = 1/(1 - x**2)\n",
        "    return y"
      ],
      "metadata": {
        "id": "60oR4vPqStLp"
      },
      "execution_count": null,
      "outputs": []
    },
    {
      "cell_type": "markdown",
      "source": [
        "When we define a function, Python just takes note of the definition, accepting it when it is syntactically correct (parentheses, commas, etc). The function can be applied later to different arguments."
      ],
      "metadata": {
        "id": "xgBDmX7zTC3h"
      }
    },
    {
      "cell_type": "code",
      "source": [
        "f(2)"
      ],
      "metadata": {
        "id": "jCCAlToCQXXq"
      },
      "execution_count": null,
      "outputs": []
    },
    {
      "cell_type": "markdown",
      "source": [
        "If we apply the function to an argument for which it does not make sense, Python will return an error message which depends on the values supplied for the argument."
      ],
      "metadata": {
        "id": "iaHuW6BdUZLN"
      }
    },
    {
      "cell_type": "code",
      "source": [
        "f('Mary')"
      ],
      "metadata": {
        "id": "fXrU3MHVQaEm"
      },
      "execution_count": null,
      "outputs": []
    },
    {
      "cell_type": "markdown",
      "source": [
        "Functions can have more than one argument, as in:"
      ],
      "metadata": {
        "id": "DdKUKnbbUi_S"
      }
    },
    {
      "cell_type": "code",
      "source": [
        "def g(x, y):\n",
        "  return x*y/(x**2 + y**2)\n",
        "g(1, 1)"
      ],
      "metadata": {
        "id": "8O7jDzdZUmM2"
      },
      "execution_count": null,
      "outputs": []
    },
    {
      "cell_type": "markdown",
      "source": [
        "*Note*. We follow in this course a common practice in Python learning materials, writing functions as `func()`. The parentheses remind you that this is an object that takes arguments."
      ],
      "metadata": {
        "id": "mRNKAfb1Qph0"
      }
    },
    {
      "cell_type": "markdown",
      "source": [
        "## Lists, ranges and dictionaries"
      ],
      "metadata": {
        "id": "k4x1adE2LrQk"
      }
    },
    {
      "cell_type": "markdown",
      "source": [
        "Python has several types for objects that work as **data containers**. The most versatile is the **list**, which is represented as a sequence of comma-separated values inside square brackets. The items of a list are ordered, and can be repeated. Also, a list can contain items of different type.\n",
        "\n",
        "A simple example of a list, of length 4, follows."
      ],
      "metadata": {
        "id": "mnCWBbstMCph"
      }
    },
    {
      "cell_type": "code",
      "source": [
        "mylist = ['Vinicius', 'Messi', 'Yamal', 'Mbappé']"
      ],
      "metadata": {
        "id": "2oRL2QJPMFGB"
      },
      "execution_count": null,
      "outputs": []
    },
    {
      "cell_type": "code",
      "source": [
        "len(mylist)"
      ],
      "metadata": {
        "id": "VsZ0qQ8LNzwX"
      },
      "execution_count": null,
      "outputs": []
    },
    {
      "cell_type": "markdown",
      "source": [
        "Lists can be concatenated in a very simple way in Python:"
      ],
      "metadata": {
        "id": "i_omGAUPOGfp"
      }
    },
    {
      "cell_type": "code",
      "source": [
        "newlist = mylist + [2, 3]\n",
        "newlist"
      ],
      "metadata": {
        "id": "TpsBBmqHOKg3"
      },
      "execution_count": null,
      "outputs": []
    },
    {
      "cell_type": "markdown",
      "source": [
        "Now, the length of `newlist` is 6:"
      ],
      "metadata": {
        "id": "6Cpd_YuEOOdL"
      }
    },
    {
      "cell_type": "code",
      "source": [
        "len(newlist)"
      ],
      "metadata": {
        "id": "dpW5jqQFOQ8Z"
      },
      "execution_count": null,
      "outputs": []
    },
    {
      "cell_type": "markdown",
      "source": [
        "The first item of `mylist` can be extracted as `mylist[0]`, the second item as `mylist[1]`, etc. The last item can be extracted either as `mylist[3]` or as `mylist[-1]`. Sublists can be extracted by using a colon inside the brackets, as in:"
      ],
      "metadata": {
        "id": "FoIlqq3hOT5Y"
      }
    },
    {
      "cell_type": "code",
      "source": [
        "mylist[0:2]"
      ],
      "metadata": {
        "id": "VkjolkBGObJD"
      },
      "execution_count": null,
      "outputs": []
    },
    {
      "cell_type": "markdown",
      "source": [
        "Note that `0:2` includes `0` but not `2`. This is a general rule for indexing in Python. Other examples follow."
      ],
      "metadata": {
        "id": "5No1tL9IOeIg"
      }
    },
    {
      "cell_type": "code",
      "source": [
        "mylist[2:]"
      ],
      "metadata": {
        "id": "pZ_Ge6JzOhsm"
      },
      "execution_count": null,
      "outputs": []
    },
    {
      "cell_type": "code",
      "source": [
        "mylist[:3]"
      ],
      "metadata": {
        "id": "nMgH9UAfQFOJ"
      },
      "execution_count": null,
      "outputs": []
    },
    {
      "cell_type": "markdown",
      "source": [
        "A **range** is a sequence of integers which in many aspects works as a list, but the terms of the sequence are not saved as in a list. Instead, only the procedure to create the sequence is saved. Example:"
      ],
      "metadata": {
        "id": "D7hmc51UQQVy"
      }
    },
    {
      "cell_type": "code",
      "source": [
        "myrange = range(0, 10)\n",
        "list(myrange)"
      ],
      "metadata": {
        "id": "-cOTlUo6QTZu"
      },
      "execution_count": null,
      "outputs": []
    },
    {
      "cell_type": "markdown",
      "source": [
        "Note that the items from a range cannot printed directly. So, we have converted the range to a list with the function `list`. Note that `range(start, end)` contains `start` but not `end`. If `start` is omitted, it is assumed to be zero."
      ],
      "metadata": {
        "id": "Wg62shFUQYG1"
      }
    },
    {
      "cell_type": "markdown",
      "source": [
        "A **dictionary** is a set of **pairs key/value**. For instance, the following dictionary contains three features of an individual:"
      ],
      "metadata": {
        "id": "Rw8mQwySQmnq"
      }
    },
    {
      "cell_type": "code",
      "source": [
        "my_dict = {'name': 'Joan', 'gender': 'F', 'age': 32}"
      ],
      "metadata": {
        "id": "vi88_itFRRng"
      },
      "execution_count": null,
      "outputs": []
    },
    {
      "cell_type": "markdown",
      "source": [
        "In the dictionary, a value is not extracted using an index which indicates its order in a sequence, as in the list, but using the corresponding key:"
      ],
      "metadata": {
        "id": "LSwKJl6QRrj2"
      }
    },
    {
      "cell_type": "code",
      "source": [
        "my_dict['name']"
      ],
      "metadata": {
        "id": "4IbFp2vjR2k4"
      },
      "execution_count": null,
      "outputs": []
    },
    {
      "cell_type": "markdown",
      "source": [
        "## NumPy arrays"
      ],
      "metadata": {
        "id": "u28v7CYVUydH"
      }
    },
    {
      "cell_type": "markdown",
      "source": [
        "In mathematics, a **vector** is a sequence of numbers, and a **matrix** is a rectangular arrangement of numbers. Operations with vectors and matrices are the subject of a branch of mathematics called linear algebra. In Python (and in many other languages), vectors are called one-dimensional (1D) **arrays**, while matrices are called two-dimensional (2D) arrays. Arrays of more than two dimensions can be managed in Python without pain.\n",
        "\n",
        "Python arrays are not necessarily numeric. Indeed, vectors of dates and strings appear frequently in data science. In principle, all the terms of an ordinary array must have the same type, so the array itself can have a type, though you can relax this constraint using mixed types (not covered by this course). Arrays were already implemented in plain Python, but the functionality of the Python arrays was enlarged in **NumPy**, intended to be the fundamental library for scientific computing in Python.\n",
        "\n",
        "The usual way to import NumPy is:"
      ],
      "metadata": {
        "id": "JnpKcWnhTMxu"
      }
    },
    {
      "cell_type": "code",
      "source": [
        "import numpy as np"
      ],
      "metadata": {
        "id": "DYUJTMorTSQJ"
      },
      "execution_count": null,
      "outputs": []
    },
    {
      "cell_type": "markdown",
      "source": [
        "A 1D array can be created from a list with the NumPy function `array()`. If the items of the list have different type, they are converted to a common type when creating the array. A simple example follows."
      ],
      "metadata": {
        "id": "iRvzeeLkTUb2"
      }
    },
    {
      "cell_type": "code",
      "source": [
        "arr1 = np.array([2, 7, 14, 5, 9])\n",
        "arr1"
      ],
      "metadata": {
        "id": "fkyr727_TYiO"
      },
      "execution_count": null,
      "outputs": []
    },
    {
      "cell_type": "markdown",
      "source": [
        "A 2D array can be directly created from a list of lists of equal length. The terms are entered row-by-row:"
      ],
      "metadata": {
        "id": "qYXtyrvuTg1I"
      }
    },
    {
      "cell_type": "code",
      "source": [
        "arr2 = np.array([[0, 7, 2, 3], [3, 9, -5, 1]])\n",
        "arr2"
      ],
      "metadata": {
        "id": "nSLf1LyoTjTL"
      },
      "execution_count": null,
      "outputs": []
    },
    {
      "cell_type": "markdown",
      "source": [
        "Although we visualize a vector as a column (or as a row) and a matrix as a rectangular arrangement, with rows and columns, it is not so in the computer. The 1D array is just a sequence of elements of the same type, neither horizontal nor vertical. It has one **axis**, which is the 0-axis.\n",
        "\n",
        "In a similar way, a 2D array is a sequence of 1D arrays of the same length and type. It has two axes. When we visualize it as rows and columns, `axis=0` means *across rows*, while `axis=1` means *across columns*.\n",
        "\n",
        "The number of terms stored along an axis is the **dimension** of that axis. The dimensions are collected in the attribute `.shape`."
      ],
      "metadata": {
        "id": "sVf4qDArToFD"
      }
    },
    {
      "cell_type": "code",
      "source": [
        "arr1.shape"
      ],
      "metadata": {
        "id": "cm27L4IuTv29"
      },
      "execution_count": null,
      "outputs": []
    },
    {
      "cell_type": "code",
      "source": [
        "arr2.shape"
      ],
      "metadata": {
        "id": "0D0WWtOqT8FN"
      },
      "execution_count": null,
      "outputs": []
    },
    {
      "cell_type": "markdown",
      "source": [
        "**Subsetting** a 1D array is done as for a list:"
      ],
      "metadata": {
        "id": "93CD0p1PVppd"
      }
    },
    {
      "cell_type": "code",
      "source": [
        "arr1[:3]"
      ],
      "metadata": {
        "id": "gKva_C1YWNLn"
      },
      "execution_count": null,
      "outputs": []
    },
    {
      "cell_type": "markdown",
      "source": [
        "The same applies to 2D arrays, but we need two indexes within the square brackets. The first index selects the rows (`axis=0`), and the second index the columns (`axis=1`):"
      ],
      "metadata": {
        "id": "XyQMvoP3WQpK"
      }
    },
    {
      "cell_type": "code",
      "source": [
        "arr2[:1, 1:]"
      ],
      "metadata": {
        "id": "jXGQyuwaWW3U"
      },
      "execution_count": null,
      "outputs": []
    },
    {
      "cell_type": "markdown",
      "source": [
        "When an expression involving an array is evaluated by the Python kernel, a Boolean array with the same shape is returned:"
      ],
      "metadata": {
        "id": "XWuj5-9NWhFh"
      }
    },
    {
      "cell_type": "code",
      "source": [
        "arr2 > 2"
      ],
      "metadata": {
        "id": "tK3GeYmYWs9H"
      },
      "execution_count": null,
      "outputs": []
    },
    {
      "cell_type": "markdown",
      "source": [
        "## The package Pandas"
      ],
      "metadata": {
        "id": "OL_EbF5ecYA4"
      }
    },
    {
      "cell_type": "markdown",
      "source": [
        "**Pandas** provides a wide range of data wrangling tools. It is typically imported as"
      ],
      "metadata": {
        "id": "XRlGoGD5caYL"
      }
    },
    {
      "cell_type": "code",
      "source": [
        "import pandas as pd"
      ],
      "metadata": {
        "id": "yyXQQxHKclNA"
      },
      "execution_count": null,
      "outputs": []
    },
    {
      "cell_type": "markdown",
      "source": [
        "There are two data container classes in Pandas, the series (one-dimensional) and the data frames (two-dimensional). A **series** can be seen as the combination of a 1D array containing the **values** and a list containing the names of the values, called the **index**. These components can be extracted as the attributes `.values` and `.index`.\n",
        "\n",
        "A **data frame** can be seen as formed by one or several series with the same index (hence, with the same length). It can also be seen as a table for which the index provides the row names. In a Pandas data frame, each column has its own data type. The numeric types work as usual, but Pandas uses the data type `object` for many things, in particular for strings."
      ],
      "metadata": {
        "id": "4I8C9VIocyYm"
      }
    },
    {
      "cell_type": "markdown",
      "source": [
        "## Pandas series"
      ],
      "metadata": {
        "id": "OmzfVTWUc1cN"
      }
    },
    {
      "cell_type": "markdown",
      "source": [
        "Although we rarely do it in data science, a Pandas series can be created directly, for instance from an array, with the Pandas function `Series()`:"
      ],
      "metadata": {
        "id": "L8A5CscKdDe8"
      }
    },
    {
      "cell_type": "code",
      "source": [
        "s1 = pd.Series(arr1)\n",
        "s1"
      ],
      "metadata": {
        "id": "QNJuv3ledHWw"
      },
      "execution_count": null,
      "outputs": []
    },
    {
      "cell_type": "markdown",
      "source": [
        "Now, the values of the series are extracted as:"
      ],
      "metadata": {
        "id": "69uRZjNLdLxW"
      }
    },
    {
      "cell_type": "code",
      "source": [
        "s1.values"
      ],
      "metadata": {
        "id": "ZwSHNIWtdgbg"
      },
      "execution_count": null,
      "outputs": []
    },
    {
      "cell_type": "markdown",
      "source": [
        "As shown above, when a series is printed, the index appears on the left. Since the index of `s1` has not been specified, a range of consecutive integers has been assigned as the index."
      ],
      "metadata": {
        "id": "q2-VXpFBdjKk"
      }
    },
    {
      "cell_type": "code",
      "source": [
        "s1.index"
      ],
      "metadata": {
        "id": "Jh2INrRhf3zo"
      },
      "execution_count": null,
      "outputs": []
    },
    {
      "cell_type": "markdown",
      "source": [
        "Instead of an array, a list can be used to provide the values of a series. In the list, the items can have different type, but Pandas converts them to a common type, as shown in the following example. Here, instead of letting the Python kernel to create an index automatically, as a `RangeIndex`, we specify an index directly:"
      ],
      "metadata": {
        "id": "RZih1Cxqf7EU"
      }
    },
    {
      "cell_type": "code",
      "source": [
        "s2 = pd.Series([1, 5, 'Messi'], index = ['a', 'b', 'c'])\n",
        "s2"
      ],
      "metadata": {
        "id": "Jg0RH0rKf-CM"
      },
      "execution_count": null,
      "outputs": []
    },
    {
      "cell_type": "markdown",
      "source": [
        "Indexes are useful for combining, filtering and joining data sets. There are many types of indexes, which allow for specific operations. So, don't look at the index as an embarrassment, which is what it seems at first sight, but as a tool for data management."
      ],
      "metadata": {
        "id": "qDOc33GhgS4P"
      }
    },
    {
      "cell_type": "markdown",
      "source": [
        "## Pandas data frames"
      ],
      "metadata": {
        "id": "KLba12gngWgk"
      }
    },
    {
      "cell_type": "markdown",
      "source": [
        "A Pandas **data frame** can be seen as a collection of series with the same index (hence, with the same length). Data frames can be built in many ways with the Pandas function `DataFrame()`, for instance from a dictionary of vector-like objects of the same length, as in"
      ],
      "metadata": {
        "id": "PSLtzc-ygYxD"
      }
    },
    {
      "cell_type": "code",
      "source": [
        "df = pd.DataFrame({'v1': range(5), 'v2': ['a', 'b', 'c', 'd', 'e'], 'v3': np.repeat(-1.3, 5)})\n",
        "df"
      ],
      "metadata": {
        "id": "PqTEb-FPgero"
      },
      "execution_count": null,
      "outputs": []
    },
    {
      "cell_type": "markdown",
      "source": [
        "As the series, the data frames have the attributes `.values` and `.index`. Without a explicit specification, the index is automatically created as a `RangeIndex`. The third component of the data frame is a list with the column names, which can be extracted as the attribute `.columns`:"
      ],
      "metadata": {
        "id": "hT3kSePygzF8"
      }
    },
    {
      "cell_type": "code",
      "source": [
        "df.columns"
      ],
      "metadata": {
        "id": "r9ulWnsIhKqG"
      },
      "execution_count": null,
      "outputs": []
    },
    {
      "cell_type": "markdown",
      "source": [
        "A data frame has the same shape of the array of values. Having rows and columns, a data frame looks like a 2D array with row and column names. But not all data frames are so simple. While a NumPy 2D array has a single data type, in a Pandas data frame every column has its own data type.\n"
      ],
      "metadata": {
        "id": "wUfp6kqKhNhY"
      }
    },
    {
      "cell_type": "markdown",
      "source": [
        "## Exploring Pandas objects"
      ],
      "metadata": {
        "id": "hh2bDzhlhXow"
      }
    },
    {
      "cell_type": "markdown",
      "source": [
        "The methods `.head()` and `.tail()` extract the first and the last rows of a data frame, respectively. The default number of rows extracted is 5, but you can pass a custom number."
      ],
      "metadata": {
        "id": "70wWR0a0ja8R"
      }
    },
    {
      "cell_type": "code",
      "source": [
        "df.head(2)"
      ],
      "metadata": {
        "id": "LGiWvmdgjdP4"
      },
      "execution_count": null,
      "outputs": []
    },
    {
      "cell_type": "markdown",
      "source": [
        "The content of a data frame can also be explored with the **method** `.info()`. It reports the dimensions, the data type and the number of non-missing values of every column of the data frame. Note that the data type of the second column, for which you would have expected `str`, is reported as `object`."
      ],
      "metadata": {
        "id": "5lqF4ubAjf2g"
      }
    },
    {
      "cell_type": "code",
      "source": [
        "df.info()"
      ],
      "metadata": {
        "id": "n-Jcl9qtjjBZ"
      },
      "execution_count": null,
      "outputs": []
    },
    {
      "cell_type": "markdown",
      "source": [
        "*Note*. A method is a function that belongs to a certain type of object. So, there are string methods, list methods, etc.\n",
        "\n",
        "The method `.describe()` extracts a conventional statistical summary of a Pandas object. The string columns are omitted, except when all the columns have that type. Then the report contains only counts."
      ],
      "metadata": {
        "id": "BcGZkSipjsgK"
      }
    },
    {
      "cell_type": "code",
      "source": [
        "df.describe()"
      ],
      "metadata": {
        "id": "jw7FNCeXjvI0"
      },
      "execution_count": null,
      "outputs": []
    },
    {
      "cell_type": "markdown",
      "source": [
        "## Subsetting data frames"
      ],
      "metadata": {
        "id": "wVZLESBGjyqg"
      }
    },
    {
      "cell_type": "markdown",
      "source": [
        "Pandas offers multiple ways for subsetting data frames. First, you can extract a column, as a series:"
      ],
      "metadata": {
        "id": "v1EvOxjjj5oO"
      }
    },
    {
      "cell_type": "code",
      "source": [
        "df['v2']"
      ],
      "metadata": {
        "id": "fXUk9mo8j7p6"
      },
      "execution_count": null,
      "outputs": []
    },
    {
      "cell_type": "markdown",
      "source": [
        "Note that the syntax is the same as for extracting the value of a key from a dictionary (not by chance). You can also extract a subframe containing a subset of complete columns from a data frame. You can specify this with a list containing the names of those columns:"
      ],
      "metadata": {
        "id": "lAtkST6Ej-wA"
      }
    },
    {
      "cell_type": "code",
      "source": [
        "print(df[['v1', 'v2']])"
      ],
      "metadata": {
        "id": "y4bKPDVskE52"
      },
      "execution_count": null,
      "outputs": []
    },
    {
      "cell_type": "markdown",
      "source": [
        "*Note*. You can extract a subframe with a single column. Beware that this is not the same as a series. `df['v2']`is a series with shape `(5,)`, and `df[['v2']]` is a data frame with shape `(5,1)`.\n",
        "\n",
        "In data science, rows are typically filtered by means of an **expression**. Example:"
      ],
      "metadata": {
        "id": "NpIbdfMhkIEE"
      }
    },
    {
      "cell_type": "code",
      "source": [
        "expr = df['v1'] > 2\n",
        "df[expr]"
      ],
      "metadata": {
        "id": "7viNenqDkLby"
      },
      "execution_count": null,
      "outputs": []
    },
    {
      "cell_type": "markdown",
      "source": [
        "Combining a row filter and a column selection:"
      ],
      "metadata": {
        "id": "reKNyjmPkOY8"
      }
    },
    {
      "cell_type": "code",
      "source": [
        "print(df[df['v1'] > 2][['v1', 'v2']])"
      ],
      "metadata": {
        "id": "j6S4m7CakRYw"
      },
      "execution_count": null,
      "outputs": []
    },
    {
      "cell_type": "markdown",
      "source": [
        "Besides this, there are two additional ways to carry out a selection, specifying rows and columns in one shot:\n",
        "\n",
        "* **Selection by label** is specified by adding  `.loc` after the name of the data frame. The selection of the rows is based on the index, and that of the columns is based on the column names.\n",
        "\n",
        "* **Selection by position** uses `.iloc`. The selection of the rows is based on the row number and that of the columns on the column number.\n",
        "\n",
        "In both cases, if you enter a single specification inside the brackets, it refers to the rows. If you enter two specifications, the first one refers to the rows and the second one to the columns. We don't use `loc` and `iloc` in this course, since you can work in Pandas without that, selecting first the rows and then the columns. Sticking to this simple approach, you will save the time wasted learning too many methods."
      ],
      "metadata": {
        "id": "X2XpGf5LkUa_"
      }
    },
    {
      "cell_type": "markdown",
      "source": [
        "## Importing data from CSV files"
      ],
      "metadata": {
        "id": "NtFqUFM0vM1w"
      }
    },
    {
      "cell_type": "markdown",
      "source": [
        "Data sets in tabular form can be imported as Pandas data frames from many file formats. In particular, data from a CSV file can be imported to a data frame with the Pandas function `read_csv()`. The (default) syntax is\n",
        "\n",
        "```\n",
        "dfname = pd.read_csv(fname)\n",
        "```\n",
        "\n",
        "The data frame name is chosen by the user, and the file name has to contain the **path** of that file (either local or remote). `read_csv()` works the same way for CSV files and for **zipped ZIP files**. Although the default syntax works in most cases satisfactorily, this function can be customized in order to meet various requirements."
      ],
      "metadata": {
        "id": "c3bWS_TlvPcF"
      }
    },
    {
      "cell_type": "markdown",
      "source": [
        "## Summary statistics"
      ],
      "metadata": {
        "id": "s-65KSVMvTxC"
      }
    },
    {
      "cell_type": "markdown",
      "source": [
        "The method `.describe()` extracts a conventional statistical summary. Columns of type `object` are omitted, except when all the columns have that type. Then the report contains just counts.\n",
        "\n",
        "Basic statistics can also be calculated separately. For instance, the method `.mean()` returns the column means of a data frame. Correlations are also pretty easy:\n",
        "\n",
        "* For a pair of series, `s1` and `s2`, `s1.corr(s2)` returns the **correlation** of `s1` and `s2`.\n",
        "\n",
        "* For a data frame `df`, `df.corr()` returns the **correlation matrix** for the columns of `df`."
      ],
      "metadata": {
        "id": "GP_WmOTN0IzJ"
      }
    },
    {
      "cell_type": "markdown",
      "source": [
        "## Plotting"
      ],
      "metadata": {
        "id": "_OeUgShk7H-F"
      }
    },
    {
      "cell_type": "markdown",
      "source": [
        "We typically visualize the data with bar plots, histograms, scatter plots and line plots. They can be obtained directly from a Pandas object. Suppose first that `df` is a Pandas data frame and set `cname1` as the *x*-column and `cname2` as the *y*-column (numeric). To explore the dependence of the *y*-column on the *x*-column, we use a **bar plot**, when the *x*-column is categorical, and a **scatter plot**, when it is numeric:\n",
        "\n",
        "* `df.plot.bar(x=cname1, y=cname2)` returns a bar plot. The bars represent the values of the column `cname2` for the different values of the column `cname1`. If you do not specify the *x*-column, the index is used instead.\n",
        "\n",
        "* `df.plot.scatter(x=cname1, y=cname2)` returns a scatter plot.\n",
        "\n",
        "Suppose now that `s` is a numeric Pandas series. To explore the distribution of `s`, you use a **histogram**. Alternatively, to explore a trend, you use a **line plot**. This is pretty easy in Pandas:\n",
        "\n",
        "* `s.plot.hist()` returns a histogram.\n",
        "\n",
        "* `s.plot.line()` returns a line plot.\n",
        "\n",
        "Pandas uses the functions of the package Matplotlib, but not explicitly. If you are satisfied with a basic functionality, you can skip Matplotlib in your code.\n"
      ],
      "metadata": {
        "id": "MIlJICsU7KrQ"
      }
    }
  ]
}
